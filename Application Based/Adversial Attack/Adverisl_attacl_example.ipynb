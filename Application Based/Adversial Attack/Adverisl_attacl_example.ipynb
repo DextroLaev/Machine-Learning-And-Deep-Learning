{
  "nbformat": 4,
  "nbformat_minor": 0,
  "metadata": {
    "colab": {
      "provenance": [],
      "toc_visible": true
    },
    "kernelspec": {
      "name": "python3",
      "display_name": "Python 3"
    },
    "language_info": {
      "name": "python"
    },
    "accelerator": "GPU",
    "gpuClass": "standard"
  },
  "cells": [
    {
      "cell_type": "code",
      "execution_count": 2,
      "metadata": {
        "id": "cBc2cwBscBYW"
      },
      "outputs": [],
      "source": [
        "import tensorflow as tf\n",
        "import matplotlib.pyplot as plt\n",
        "import numpy as np"
      ]
    },
    {
      "cell_type": "code",
      "source": [
        "(train_data,train_label),(test_data,test_label) = tf.keras.datasets.mnist.load_data()"
      ],
      "metadata": {
        "colab": {
          "base_uri": "https://localhost:8080/"
        },
        "id": "S5HMH9HadFi-",
        "outputId": "c4e6ae3a-725a-4af3-fbf1-c4b92db178d2"
      },
      "execution_count": 3,
      "outputs": [
        {
          "output_type": "stream",
          "name": "stdout",
          "text": [
            "Downloading data from https://storage.googleapis.com/tensorflow/tf-keras-datasets/mnist.npz\n",
            "11490434/11490434 [==============================] - 2s 0us/step\n"
          ]
        }
      ]
    },
    {
      "cell_type": "markdown",
      "source": [
        "## **Basic Neural Network**"
      ],
      "metadata": {
        "id": "AjHCjUUxiuNH"
      }
    },
    {
      "cell_type": "code",
      "source": [
        "def model(input_shape=(28,28)):\n",
        "    Input = tf.keras.Input(input_shape)\n",
        "    flatten = tf.keras.layers.Flatten()(Input)\n",
        "    hd1 = tf.keras.layers.Dense(240,activation='relu')(flatten)\n",
        "    hd2 = tf.keras.layers.Dense(120,activation='relu')(hd1)\n",
        "    out = tf.keras.layers.Dense(10,activation='softmax')(hd2)\n",
        "    m = tf.keras.Model(inputs=Input,outputs=out)\n",
        "    return m"
      ],
      "metadata": {
        "id": "f4YfGhmgdwj_"
      },
      "execution_count": 64,
      "outputs": []
    },
    {
      "cell_type": "code",
      "source": [
        "nm = model()\n",
        "nm.compile(loss='SparseCategoricalCrossentropy',optimizer='adam',metrics=['accuracy'])"
      ],
      "metadata": {
        "id": "M3BBQS9udx7J"
      },
      "execution_count": 65,
      "outputs": []
    },
    {
      "cell_type": "code",
      "source": [
        "nm.fit(train_data,train_label,validation_data=(test_data,test_label),epochs=8)"
      ],
      "metadata": {
        "colab": {
          "base_uri": "https://localhost:8080/"
        },
        "id": "-5ytPvTsdy3D",
        "outputId": "a74ed756-acc4-4ffb-d3a5-f5c500875170"
      },
      "execution_count": 66,
      "outputs": [
        {
          "output_type": "stream",
          "name": "stdout",
          "text": [
            "Epoch 1/8\n",
            "1875/1875 [==============================] - 8s 4ms/step - loss: 1.2226 - accuracy: 0.8628 - val_loss: 0.3192 - val_accuracy: 0.9180\n",
            "Epoch 2/8\n",
            "1875/1875 [==============================] - 7s 3ms/step - loss: 0.2442 - accuracy: 0.9334 - val_loss: 0.2511 - val_accuracy: 0.9276\n",
            "Epoch 3/8\n",
            "1875/1875 [==============================] - 7s 4ms/step - loss: 0.1771 - accuracy: 0.9514 - val_loss: 0.1775 - val_accuracy: 0.9531\n",
            "Epoch 4/8\n",
            "1875/1875 [==============================] - 6s 3ms/step - loss: 0.1586 - accuracy: 0.9579 - val_loss: 0.1672 - val_accuracy: 0.9552\n",
            "Epoch 5/8\n",
            "1875/1875 [==============================] - 9s 5ms/step - loss: 0.1405 - accuracy: 0.9637 - val_loss: 0.1648 - val_accuracy: 0.9565\n",
            "Epoch 6/8\n",
            "1875/1875 [==============================] - 6s 3ms/step - loss: 0.1214 - accuracy: 0.9680 - val_loss: 0.1266 - val_accuracy: 0.9691\n",
            "Epoch 7/8\n",
            "1875/1875 [==============================] - 9s 5ms/step - loss: 0.1151 - accuracy: 0.9706 - val_loss: 0.1632 - val_accuracy: 0.9622\n",
            "Epoch 8/8\n",
            "1875/1875 [==============================] - 7s 4ms/step - loss: 0.0952 - accuracy: 0.9757 - val_loss: 0.1837 - val_accuracy: 0.9587\n"
          ]
        },
        {
          "output_type": "execute_result",
          "data": {
            "text/plain": [
              "<keras.callbacks.History at 0x7fc2283339a0>"
            ]
          },
          "metadata": {},
          "execution_count": 66
        }
      ]
    },
    {
      "cell_type": "markdown",
      "source": [
        "## **Peforming a Adversarial Attack**"
      ],
      "metadata": {
        "id": "9XJ7oxGui3kP"
      }
    },
    {
      "cell_type": "code",
      "source": [
        "img,label = tf.cast(train_data[1]/255,dtype=tf.float32),train_label[1]"
      ],
      "metadata": {
        "id": "rCU2hBcrjN4c"
      },
      "execution_count": 80,
      "outputs": []
    },
    {
      "cell_type": "code",
      "source": [
        "label"
      ],
      "metadata": {
        "colab": {
          "base_uri": "https://localhost:8080/"
        },
        "id": "xwCoyl9ilKUC",
        "outputId": "52797350-7d88-4715-fee1-da82da90c5cb"
      },
      "execution_count": 81,
      "outputs": [
        {
          "output_type": "execute_result",
          "data": {
            "text/plain": [
              "0"
            ]
          },
          "metadata": {},
          "execution_count": 81
        }
      ]
    },
    {
      "cell_type": "code",
      "source": [
        "plt.imshow(img)"
      ],
      "metadata": {
        "colab": {
          "base_uri": "https://localhost:8080/",
          "height": 282
        },
        "id": "crW55ZJqd6w5",
        "outputId": "9b864d28-bb85-4618-9fe4-e33ebe83ccce"
      },
      "execution_count": 82,
      "outputs": [
        {
          "output_type": "execute_result",
          "data": {
            "text/plain": [
              "<matplotlib.image.AxesImage at 0x7fc2c054d700>"
            ]
          },
          "metadata": {},
          "execution_count": 82
        },
        {
          "output_type": "display_data",
          "data": {
            "text/plain": [
              "<Figure size 432x288 with 1 Axes>"
            ],
            "image/png": "[encoded data removed]"
          },
          "metadata": {
            "needs_background": "light"
          }
        }
      ]
    },
    {
      "cell_type": "code",
      "source": [
        "loss_func = tf.keras.losses.SparseCategoricalCrossentropy()"
      ],
      "metadata": {
        "id": "XWZATvz7d8aQ"
      },
      "execution_count": 53,
      "outputs": []
    },
    {
      "cell_type": "code",
      "source": [
        "np.argmax(nm.predict(train_data[1][None,...]))"
      ],
      "metadata": {
        "colab": {
          "base_uri": "https://localhost:8080/"
        },
        "id": "Dl_2IEyuk_Ik",
        "outputId": "8dea6373-8f61-4357-f578-21456ca3d752"
      },
      "execution_count": 83,
      "outputs": [
        {
          "output_type": "stream",
          "name": "stdout",
          "text": [
            "1/1 [==============================] - 0s 139ms/step\n"
          ]
        },
        {
          "output_type": "execute_result",
          "data": {
            "text/plain": [
              "0"
            ]
          },
          "metadata": {},
          "execution_count": 83
        }
      ]
    },
    {
      "cell_type": "markdown",
      "source": [
        "## Fast Gradient Sign method"
      ],
      "metadata": {
        "id": "tw0OrGWWjfeR"
      }
    },
    {
      "cell_type": "code",
      "source": [
        "def create_noise(image,label):\n",
        "    with tf.GradientTape() as tape:\n",
        "        tape.watch(image)\n",
        "        pred = nm(image)\n",
        "        loss = loss_func(label,pred)\n",
        "    \n",
        "    gradient = tape.gradient(loss,image)\n",
        "    signed_grad = tf.sign(gradient)\n",
        "    return signed_grad"
      ],
      "metadata": {
        "id": "qyCDyD20eUmw"
      },
      "execution_count": 84,
      "outputs": []
    },
    {
      "cell_type": "code",
      "source": [
        "test_img = img[None,...]"
      ],
      "metadata": {
        "id": "1QTs5x0QfWd8"
      },
      "execution_count": 85,
      "outputs": []
    },
    {
      "cell_type": "code",
      "source": [
        "perbutation = create_noise(test_img,label)"
      ],
      "metadata": {
        "id": "MUBr-UtKedSU"
      },
      "execution_count": 86,
      "outputs": []
    },
    {
      "cell_type": "code",
      "source": [
        "plt.title('Noise')\n",
        "plt.imshow(perbutation[0])"
      ],
      "metadata": {
        "colab": {
          "base_uri": "https://localhost:8080/",
          "height": 298
        },
        "id": "3wK0mfWUehlv",
        "outputId": "209f0190-d33b-4517-8ed9-783c5deaa79e"
      },
      "execution_count": 87,
      "outputs": [
        {
          "output_type": "execute_result",
          "data": {
            "text/plain": [
              "<matplotlib.image.AxesImage at 0x7fc23217c8b0>"
            ]
          },
          "metadata": {},
          "execution_count": 87
        },
        {
          "output_type": "display_data",
          "data": {
            "text/plain": [
              "<Figure size 432x288 with 1 Axes>"
            ],
            "image/png": "[encoded data removed]"
          },
          "metadata": {
            "needs_background": "light"
          }
        }
      ]
    },
    {
      "cell_type": "markdown",
      "source": [
        "## Attack on original Image"
      ],
      "metadata": {
        "id": "jceFZxCyjzwL"
      }
    },
    {
      "cell_type": "code",
      "source": [
        "epsilon = [0,0.01,0.1,0.15]\n",
        "for i in epsilon:\n",
        "    adv_x = img + i*perbutation[0]\n",
        "    plt.title('epsilon = {}'.format(i))\n",
        "    plt.imshow(adv_x)\n",
        "    plt.show()"
      ],
      "metadata": {
        "colab": {
          "base_uri": "https://localhost:8080/",
          "height": 1000
        },
        "id": "tZLl_47Agv2A",
        "outputId": "a9e6ffe1-5855-4a7d-ee64-15562a696f84"
      },
      "execution_count": 88,
      "outputs": [
        {
          "output_type": "display_data",
          "data": {
            "text/plain": [
              "<Figure size 432x288 with 1 Axes>"
            ],
            "image/png": "[encoded data removed]"
          },
          "metadata": {
            "needs_background": "light"
          }
        },
        {
          "output_type": "display_data",
          "data": {
            "text/plain": [
              "<Figure size 432x288 with 1 Axes>"
            ],
            "image/png": "[encoded data removed]"
          },
          "metadata": {
            "needs_background": "light"
          }
        },
        {
          "output_type": "display_data",
          "data": {
            "text/plain": [
              "<Figure size 432x288 with 1 Axes>"
            ],
            "image/png": "[encoded data removed]"
          },
          "metadata": {
            "needs_background": "light"
          }
        },
        {
          "output_type": "display_data",
          "data": {
            "text/plain": [
              "<Figure size 432x288 with 1 Axes>"
            ],
            "image/png": "[encoded data removed]"
          },
          "metadata": {
            "needs_background": "light"
          }
        }
      ]
    },
    {
      "cell_type": "markdown",
      "source": [
        "## Final effected image"
      ],
      "metadata": {
        "id": "MVmVziPxj_G6"
      }
    },
    {
      "cell_type": "code",
      "source": [
        "plt.imshow(adv_x)"
      ],
      "metadata": {
        "colab": {
          "base_uri": "https://localhost:8080/",
          "height": 282
        },
        "id": "06CGU026hJUB",
        "outputId": "de8508d2-5f7c-4d26-cea6-06f7299e4884"
      },
      "execution_count": 89,
      "outputs": [
        {
          "output_type": "execute_result",
          "data": {
            "text/plain": [
              "<matplotlib.image.AxesImage at 0x7fc2598b06d0>"
            ]
          },
          "metadata": {},
          "execution_count": 89
        },
        {
          "output_type": "display_data",
          "data": {
            "text/plain": [
              "<Figure size 432x288 with 1 Axes>"
            ],
            "image/png": "[encoded data removed]"
          },
          "metadata": {
            "needs_background": "light"
          }
        }
      ]
    },
    {
      "cell_type": "markdown",
      "source": [
        "# Prediction on Effected Image"
      ],
      "metadata": {
        "id": "9aRumhfmkHKu"
      }
    },
    {
      "cell_type": "code",
      "source": [
        "np.argmax(nm.predict(tf.expand_dims(adv_x,0)))"
      ],
      "metadata": {
        "colab": {
          "base_uri": "https://localhost:8080/"
        },
        "id": "dGqFw3VEhTtY",
        "outputId": "c8c2e9a0-aa59-4119-d0eb-f0302d35c0ed"
      },
      "execution_count": 90,
      "outputs": [
        {
          "output_type": "stream",
          "name": "stdout",
          "text": [
            "1/1 [==============================] - 0s 19ms/step\n"
          ]
        },
        {
          "output_type": "execute_result",
          "data": {
            "text/plain": [
              "8"
            ]
          },
          "metadata": {},
          "execution_count": 90
        }
      ]
    },
    {
      "cell_type": "markdown",
      "source": [
        "## Prediction on Original Image"
      ],
      "metadata": {
        "id": "6jMrxO_gkRY4"
      }
    },
    {
      "cell_type": "code",
      "source": [
        "np.argmax(nm.predict(train_data[1][None,...]))"
      ],
      "metadata": {
        "colab": {
          "base_uri": "https://localhost:8080/"
        },
        "id": "5Ns6ytyVhYrT",
        "outputId": "fb14c106-f2ce-4461-f009-61b50c249d58"
      },
      "execution_count": 93,
      "outputs": [
        {
          "output_type": "stream",
          "name": "stdout",
          "text": [
            "1/1 [==============================] - 0s 20ms/step\n"
          ]
        },
        {
          "output_type": "execute_result",
          "data": {
            "text/plain": [
              "0"
            ]
          },
          "metadata": {},
          "execution_count": 93
        }
      ]
    },
    {
      "cell_type": "code",
      "source": [
        "plt.imshow(img)"
      ],
      "metadata": {
        "colab": {
          "base_uri": "https://localhost:8080/",
          "height": 282
        },
        "id": "YnIvD2R6kfpp",
        "outputId": "c4cec679-952b-4584-cca8-e1fceb97ce09"
      },
      "execution_count": 94,
      "outputs": [
        {
          "output_type": "execute_result",
          "data": {
            "text/plain": [
              "<matplotlib.image.AxesImage at 0x7fc25982dd90>"
            ]
          },
          "metadata": {},
          "execution_count": 94
        },
        {
          "output_type": "display_data",
          "data": {
            "text/plain": [
              "<Figure size 432x288 with 1 Axes>"
            ],
            "image/png": "[encoded data removed]"
          },
          "metadata": {
            "needs_background": "light"
          }
        }
      ]
    },
    {
      "cell_type": "code",
      "source": [],
      "metadata": {
        "id": "Mw7MHj5UkkUq"
      },
      "execution_count": null,
      "outputs": []
    }
  ]
}