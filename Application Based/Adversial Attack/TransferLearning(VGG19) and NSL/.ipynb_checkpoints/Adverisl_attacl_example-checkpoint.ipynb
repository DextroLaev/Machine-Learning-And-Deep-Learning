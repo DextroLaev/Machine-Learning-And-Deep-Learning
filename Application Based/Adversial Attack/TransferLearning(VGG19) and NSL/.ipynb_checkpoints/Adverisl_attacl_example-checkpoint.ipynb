{
 "cells": [
  {
   "cell_type": "code",
   "execution_count": null,
   "metadata": {
    "id": "q6ZVSjPcZX7u"
   },
   "outputs": [],
   "source": [
    "import tensorflow as tf\n",
    "import pandas as pd\n",
    "import numpy as np\n",
    "import matplotlib.pyplot as plt\n",
    "import seaborn as sns"
   ]
  },
  {
   "cell_type": "code",
   "execution_count": null,
   "metadata": {
    "id": "SSFO10zYZvf5"
   },
   "outputs": [],
   "source": []
  },
  {
   "cell_type": "markdown",
   "metadata": {
    "id": "8PHCWtsTiZ1P"
   },
   "source": [
    "**Loading the dataset**"
   ]
  },
  {
   "cell_type": "code",
   "execution_count": null,
   "metadata": {
    "colab": {
     "base_uri": "https://localhost:8080/"
    },
    "id": "t8UJxKFpawr6",
    "outputId": "f3dfc43f-8e68-4753-dee5-d1ebea7a9d49"
   },
   "outputs": [
    {
     "name": "stderr",
     "output_type": "stream",
     "text": [
      "/usr/local/lib/python3.7/dist-packages/ipykernel_launcher.py:11: VisibleDeprecationWarning: Creating an ndarray from ragged nested sequences (which is a list-or-tuple of lists-or-tuples-or ndarrays with different lengths or shapes) is deprecated. If you meant to do this, you must specify 'dtype=object' when creating the ndarray.\n",
      "  # This is added back by InteractiveShellApp.init_path()\n"
     ]
    }
   ],
   "source": [
    "import glob\n",
    "import cv2\n",
    "import os\n",
    "\n",
    "data = []\n",
    "for img in glob.glob(\"Dataset/train/*/*.png\"):\n",
    "  label = int(img.split(os.path.sep)[2][-1])-1\n",
    "  image = cv2.imread(img)\n",
    "  data.append((image,label))\n",
    "\n",
    "data = np.array(data)"
   ]
  },
  {
   "cell_type": "markdown",
   "metadata": {
    "id": "c7zR6qBikXCd"
   },
   "source": [
    "**Plot image**"
   ]
  },
  {
   "cell_type": "code",
   "execution_count": null,
   "metadata": {
    "id": "f-e2AEeojx0i"
   },
   "outputs": [],
   "source": [
    "def plot(data):\n",
    "  image,label = data\n",
    "  plt.imshow(tf.squeeze(image))\n",
    "  plt.show()\n",
    "  print(\"\\nLabel: \",label)"
   ]
  },
  {
   "cell_type": "code",
   "execution_count": null,
   "metadata": {
    "colab": {
     "base_uri": "https://localhost:8080/",
     "height": 304
    },
    "id": "ZTjIIJrbknnf",
    "outputId": "25f66c76-80cf-477d-f734-77b8304c6b15"
   },
   "outputs": [
    {
     "data": {
      "image/png": "[encoded data removed]",
      "text/plain": [
       "<Figure size 432x288 with 1 Axes>"
      ]
     },
     "metadata": {
      "needs_background": "light"
     },
     "output_type": "display_data"
    },
    {
     "name": "stdout",
     "output_type": "stream",
     "text": [
      "\n",
      "Label:  3\n"
     ]
    }
   ],
   "source": [
    "plot(data[0])"
   ]
  },
  {
   "cell_type": "markdown",
   "metadata": {
    "id": "dqSxIgsHlkJx"
   },
   "source": [
    "**Shuffling the dataset**"
   ]
  },
  {
   "cell_type": "code",
   "execution_count": null,
   "metadata": {
    "id": "J5lfryR2kpJO"
   },
   "outputs": [],
   "source": [
    "np.random.shuffle(data)"
   ]
  },
  {
   "cell_type": "code",
   "execution_count": null,
   "metadata": {
    "colab": {
     "base_uri": "https://localhost:8080/"
    },
    "id": "7MPlII0-uFGq",
    "outputId": "ca484844-6628-4ad8-c054-d2d8309982cc"
   },
   "outputs": [
    {
     "data": {
      "text/plain": [
       "(440, 2)"
      ]
     },
     "execution_count": 7,
     "metadata": {},
     "output_type": "execute_result"
    }
   ],
   "source": [
    "data.shape"
   ]
  },
  {
   "cell_type": "markdown",
   "metadata": {
    "id": "u1d2ZGsnmmxI"
   },
   "source": [
    "**Train test split**"
   ]
  },
  {
   "cell_type": "code",
   "execution_count": null,
   "metadata": {
    "id": "8pqErMHzmSjS"
   },
   "outputs": [],
   "source": [
    "n_images = len(data)\n",
    "train_size = int(0.75 * n_images)\n",
    "\n",
    "train_data = data[:train_size]\n",
    "test_data = data[train_size:]"
   ]
  },
  {
   "cell_type": "code",
   "execution_count": null,
   "metadata": {
    "colab": {
     "base_uri": "https://localhost:8080/"
    },
    "id": "IMR0Gholm7CQ",
    "outputId": "ecab0a0b-bce2-4bb3-aedb-5ef7948b6509"
   },
   "outputs": [
    {
     "data": {
      "text/plain": [
       "((330, 2), (110, 2))"
      ]
     },
     "execution_count": 9,
     "metadata": {},
     "output_type": "execute_result"
    }
   ],
   "source": [
    "train_data.shape,test_data.shape"
   ]
  },
  {
   "cell_type": "markdown",
   "metadata": {
    "id": "SVLaBByRnYLf"
   },
   "source": [
    "**Scaling and RGB-Grayscale conversion**"
   ]
  },
  {
   "cell_type": "code",
   "execution_count": null,
   "metadata": {
    "id": "yGspO-cFm9ln"
   },
   "outputs": [],
   "source": [
    "def scale(image):\n",
    "  return image/255.0\n",
    "\n",
    "IMG_DIMENSION = [299,299]\n",
    "\n",
    "def get_resized_image(image):\n",
    "  image = image[:,:,:3]\n",
    "  image = tf.image.resize(image, IMG_DIMENSION)\n",
    "  return image"
   ]
  },
  {
   "cell_type": "code",
   "execution_count": null,
   "metadata": {
    "id": "7JlUJ56knkkv"
   },
   "outputs": [],
   "source": [
    "for i in range(len(train_data)):\n",
    "  train_data[i][0] = get_resized_image(train_data[i][0])\n",
    "\n",
    "for i in range(len(test_data)):\n",
    "  test_data[i][0] = get_resized_image(test_data[i][0])"
   ]
  },
  {
   "cell_type": "code",
   "execution_count": null,
   "metadata": {
    "colab": {
     "base_uri": "https://localhost:8080/",
     "height": 321
    },
    "id": "YzfgoyT6oAHP",
    "outputId": "b4552926-3965-47fd-8141-123a495aeea3"
   },
   "outputs": [
    {
     "name": "stderr",
     "output_type": "stream",
     "text": [
      "Clipping input data to the valid range for imshow with RGB data ([0..1] for floats or [0..255] for integers).\n"
     ]
    },
    {
     "data": {
      "image/png": "[encoded data removed]",
      "text/plain": [
       "<Figure size 432x288 with 1 Axes>"
      ]
     },
     "metadata": {
      "needs_background": "light"
     },
     "output_type": "display_data"
    },
    {
     "name": "stdout",
     "output_type": "stream",
     "text": [
      "\n",
      "Label:  1\n"
     ]
    }
   ],
   "source": [
    "plot(train_data[0])"
   ]
  },
  {
   "cell_type": "markdown",
   "metadata": {
    "id": "8W1DpecyrDED"
   },
   "source": [
    "**Seperating data and labels**"
   ]
  },
  {
   "cell_type": "code",
   "execution_count": null,
   "metadata": {
    "id": "pqS5WAZgq66L"
   },
   "outputs": [],
   "source": [
    "X_train,Y_train = train_data[:,0],train_data[:,1]\n",
    "X_test,Y_test = test_data[:,0],test_data[:,1]"
   ]
  },
  {
   "cell_type": "code",
   "execution_count": null,
   "metadata": {
    "id": "wrgx-8BevS8K"
   },
   "outputs": [],
   "source": [
    "X_train = np.array([np.array(val) for val in X_train])\n",
    "X_test = np.array([np.array(val) for val in X_test])\n",
    "Y_train = np.array([np.array(val) for val in Y_train])\n",
    "Y_test = np.array([np.array(val) for val in Y_test])"
   ]
  },
  {
   "cell_type": "markdown",
   "metadata": {
    "id": "12T2LWe9TdYQ"
   },
   "source": [
    "### **Neural structured learning**"
   ]
  },
  {
   "cell_type": "code",
   "execution_count": null,
   "metadata": {
    "colab": {
     "base_uri": "https://localhost:8080/"
    },
    "id": "M9bF9v26pnSJ",
    "outputId": "03cad553-c5c7-45c9-8b00-ea809251a239"
   },
   "outputs": [
    {
     "name": "stdout",
     "output_type": "stream",
     "text": [
      "\u001b[?25l\r",
      "\u001b[K     |██▊                             | 10 kB 19.7 MB/s eta 0:00:01\r",
      "\u001b[K     |█████▍                          | 20 kB 9.7 MB/s eta 0:00:01\r",
      "\u001b[K     |████████▏                       | 30 kB 7.9 MB/s eta 0:00:01\r",
      "\u001b[K     |██████████▉                     | 40 kB 6.3 MB/s eta 0:00:01\r",
      "\u001b[K     |█████████████▋                  | 51 kB 5.7 MB/s eta 0:00:01\r",
      "\u001b[K     |████████████████▎               | 61 kB 6.7 MB/s eta 0:00:01\r",
      "\u001b[K     |███████████████████             | 71 kB 6.9 MB/s eta 0:00:01\r",
      "\u001b[K     |█████████████████████▊          | 81 kB 6.2 MB/s eta 0:00:01\r",
      "\u001b[K     |████████████████████████▌       | 92 kB 6.8 MB/s eta 0:00:01\r",
      "\u001b[K     |███████████████████████████▏    | 102 kB 7.4 MB/s eta 0:00:01\r",
      "\u001b[K     |██████████████████████████████  | 112 kB 7.4 MB/s eta 0:00:01\r",
      "\u001b[K     |████████████████████████████████| 120 kB 7.4 MB/s \n",
      "\u001b[?25h"
     ]
    }
   ],
   "source": [
    "! pip install --quiet neural-structured-learning"
   ]
  },
  {
   "cell_type": "code",
   "execution_count": null,
   "metadata": {
    "id": "bJ22-M91YAlH"
   },
   "outputs": [],
   "source": [
    "! pip install --quiet tensorflow-hub"
   ]
  },
  {
   "cell_type": "markdown",
   "metadata": {
    "id": "hfc8VunwXMN-"
   },
   "source": [
    "### **Generating image embeddings**"
   ]
  },
  {
   "cell_type": "code",
   "execution_count": null,
   "metadata": {
    "id": "oeItqrSWYEgm"
   },
   "outputs": [],
   "source": [
    "import neural_structured_learning as nsl\n",
    "import tensorflow_hub as hub"
   ]
  },
  {
   "cell_type": "code",
   "execution_count": null,
   "metadata": {
    "id": "ewR_E5eNpnU0"
   },
   "outputs": [],
   "source": [
    "def _int64_feature(value):\n",
    "  \"\"\"Returns int64 tf.train.Feature.\"\"\"\n",
    "  return tf.train.Feature(int64_list=tf.train.Int64List(value=value.tolist()))\n",
    "\n",
    "\n",
    "def _bytes_feature(value):\n",
    "  \"\"\"Returns bytes tf.train.Feature.\"\"\"\n",
    "  return tf.train.Feature(\n",
    "      bytes_list=tf.train.BytesList(value=[value.encode('utf-8')]))\n",
    "\n",
    "\n",
    "def _float_feature(value):\n",
    "  \"\"\"Returns float tf.train.Feature.\"\"\"\n",
    "  return tf.train.Feature(float_list=tf.train.FloatList(value=value.tolist()))"
   ]
  },
  {
   "cell_type": "markdown",
   "metadata": {
    "id": "114YevkvZkh-"
   },
   "source": [
    "## **Loading pretrained inception v3 model for image embeddings**"
   ]
  },
  {
   "cell_type": "markdown",
   "metadata": {
    "id": "RW-64njDkUm3"
   },
   "source": [
    "**Keras layer for inception v3 feature vector**"
   ]
  },
  {
   "cell_type": "code",
   "execution_count": null,
   "metadata": {
    "colab": {
     "base_uri": "https://localhost:8080/"
    },
    "id": "8Vjk_AjDZj2v",
    "outputId": "093ac62b-cfb1-4676-e4ab-44a4c18514f2"
   },
   "outputs": [
    {
     "data": {
      "text/plain": [
       "<tensorflow_hub.keras_layer.KerasLayer at 0x7f84df2c6490>"
      ]
     },
     "execution_count": 19,
     "metadata": {},
     "output_type": "execute_result"
    }
   ],
   "source": [
    "hub_URL = \"https://tfhub.dev/google/imagenet/inception_v3/feature_vector/5\"\n",
    "\n",
    "hub_layer = hub.KerasLayer(hub_URL,trainable=False)\n",
    "hub_layer"
   ]
  },
  {
   "cell_type": "markdown",
   "metadata": {
    "id": "snQyzYj4kdzX"
   },
   "source": [
    "**Module specifications**"
   ]
  },
  {
   "cell_type": "code",
   "execution_count": null,
   "metadata": {
    "id": "2LpXXaoBft7P"
   },
   "outputs": [],
   "source": [
    "hub_link = \"https://storage.googleapis.com/tfhub-modules/google/imagenet/inception_v3/feature_vector/1.tar.gz\"\n",
    "\n",
    "module_spec = hub.load_module_spec(hub_link)"
   ]
  },
  {
   "cell_type": "code",
   "execution_count": null,
   "metadata": {
    "colab": {
     "base_uri": "https://localhost:8080/"
    },
    "id": "tgzJlUQXhlzw",
    "outputId": "e19cfecf-a065-4b97-e34a-afe134db69e0"
   },
   "outputs": [
    {
     "data": {
      "text/plain": [
       "(299, 299)"
      ]
     },
     "execution_count": 21,
     "metadata": {},
     "output_type": "execute_result"
    }
   ],
   "source": [
    "height, width = hub.get_expected_image_size(module_spec)\n",
    "height,width"
   ]
  },
  {
   "cell_type": "code",
   "execution_count": null,
   "metadata": {
    "id": "LMl1qaxJiijv"
   },
   "outputs": [],
   "source": [
    "vector = hub_layer([X_train[0]])"
   ]
  },
  {
   "cell_type": "code",
   "execution_count": null,
   "metadata": {
    "colab": {
     "base_uri": "https://localhost:8080/"
    },
    "id": "wGX4u04wj7RO",
    "outputId": "3ecc94b9-0e72-49c1-b58c-3c59001b25fb"
   },
   "outputs": [
    {
     "data": {
      "text/plain": [
       "TensorShape([2048])"
      ]
     },
     "execution_count": 23,
     "metadata": {},
     "output_type": "execute_result"
    }
   ],
   "source": [
    "vector[0].shape"
   ]
  },
  {
   "cell_type": "markdown",
   "metadata": {
    "id": "XY-BSqwAljqV"
   },
   "source": [
    "**Creating embedding example**"
   ]
  },
  {
   "cell_type": "code",
   "execution_count": null,
   "metadata": {
    "id": "St_8dc1cpnX4"
   },
   "outputs": [],
   "source": [
    "def create_embedding_example(image,image_id):\n",
    "  # Create image embedding\n",
    "  image_embedding = hub_layer([image])\n",
    "  image_embedding = tf.reshape(image_embedding, shape=[-1])\n",
    "\n",
    "  # Create features dictionary containing id and embedding\n",
    "  features = {\n",
    "      'id': _bytes_feature(str(image_id)),\n",
    "      'embedding': _float_feature(image_embedding.numpy())\n",
    "  }\n",
    "  return tf.train.Example(features=tf.train.Features(feature=features))"
   ]
  },
  {
   "cell_type": "code",
   "execution_count": null,
   "metadata": {
    "id": "FzY9_G0Ulm4c"
   },
   "outputs": [],
   "source": [
    "def create_embeddings(images, output_path, starting_id):\n",
    "  id = int(starting_id)\n",
    "  with tf.io.TFRecordWriter(output_path) as writer:\n",
    "    for image in images:\n",
    "      example = create_embedding_example(image, id)\n",
    "      id = id + 1\n",
    "      writer.write(example.SerializeToString())\n",
    "  return id"
   ]
  },
  {
   "cell_type": "code",
   "execution_count": null,
   "metadata": {
    "colab": {
     "base_uri": "https://localhost:8080/"
    },
    "id": "v9R7x6QRmU-p",
    "outputId": "4f2f4a9e-37ae-4f40-a094-2244167adc34"
   },
   "outputs": [
    {
     "data": {
      "text/plain": [
       "330"
      ]
     },
     "execution_count": 26,
     "metadata": {},
     "output_type": "execute_result"
    }
   ],
   "source": [
    "create_embeddings(X_train, 'Graph/embeddings.tfr', 0)"
   ]
  },
  {
   "cell_type": "markdown",
   "metadata": {
    "id": "RQ4rtVKcpuiz"
   },
   "source": [
    "### **Similarity graph synthesis using nsl**"
   ]
  },
  {
   "cell_type": "code",
   "execution_count": null,
   "metadata": {
    "id": "9xQLMWuwmqV0"
   },
   "outputs": [],
   "source": [
    "graph_builder_config = nsl.configs.GraphBuilderConfig(\n",
    "    similarity_threshold=0.85, lsh_splits=32, lsh_rounds=15, random_seed=12345)\n",
    "\n",
    "nsl.tools.build_graph_from_config(['Graph/embeddings.tfr'],\n",
    "                                  'Graph/graph.tsv',\n",
    "                                  graph_builder_config)"
   ]
  },
  {
   "cell_type": "code",
   "execution_count": null,
   "metadata": {
    "colab": {
     "base_uri": "https://localhost:8080/",
     "height": 206
    },
    "id": "SoTyAPDmp-d0",
    "outputId": "312f0b8a-8050-44dd-dc91-854bda98a92f"
   },
   "outputs": [
    {
     "data": {
      "text/html": [
       "\n",
       "  <div id=\"df-bb51e636-d351-47f5-b86c-20410a7c6cb6\">\n",
       "    <div class=\"colab-df-container\">\n",
       "      <div>\n",
       "<style scoped>\n",
       "    .dataframe tbody tr th:only-of-type {\n",
       "        vertical-align: middle;\n",
       "    }\n",
       "\n",
       "    .dataframe tbody tr th {\n",
       "        vertical-align: top;\n",
       "    }\n",
       "\n",
       "    .dataframe thead th {\n",
       "        text-align: right;\n",
       "    }\n",
       "</style>\n",
       "<table border=\"1\" class=\"dataframe\">\n",
       "  <thead>\n",
       "    <tr style=\"text-align: right;\">\n",
       "      <th></th>\n",
       "      <th>204</th>\n",
       "      <th>228</th>\n",
       "      <th>0.979939</th>\n",
       "    </tr>\n",
       "  </thead>\n",
       "  <tbody>\n",
       "    <tr>\n",
       "      <th>0</th>\n",
       "      <td>228</td>\n",
       "      <td>204</td>\n",
       "      <td>0.979939</td>\n",
       "    </tr>\n",
       "    <tr>\n",
       "      <th>1</th>\n",
       "      <td>204</td>\n",
       "      <td>196</td>\n",
       "      <td>0.972402</td>\n",
       "    </tr>\n",
       "    <tr>\n",
       "      <th>2</th>\n",
       "      <td>196</td>\n",
       "      <td>204</td>\n",
       "      <td>0.972402</td>\n",
       "    </tr>\n",
       "    <tr>\n",
       "      <th>3</th>\n",
       "      <td>204</td>\n",
       "      <td>12</td>\n",
       "      <td>0.980255</td>\n",
       "    </tr>\n",
       "    <tr>\n",
       "      <th>4</th>\n",
       "      <td>12</td>\n",
       "      <td>204</td>\n",
       "      <td>0.980255</td>\n",
       "    </tr>\n",
       "  </tbody>\n",
       "</table>\n",
       "</div>\n",
       "      <button class=\"colab-df-convert\" onclick=\"convertToInteractive('df-bb51e636-d351-47f5-b86c-20410a7c6cb6')\"\n",
       "              title=\"Convert this dataframe to an interactive table.\"\n",
       "              style=\"display:none;\">\n",
       "        \n",
       "  <svg xmlns=\"http://www.w3.org/2000/svg\" height=\"24px\"viewBox=\"0 0 24 24\"\n",
       "       width=\"24px\">\n",
       "    <path d=\"M0 0h24v24H0V0z\" fill=\"none\"/>\n",
       "    <path d=\"M18.56 5.44l.94 2.06.94-2.06 2.06-.94-2.06-.94-.94-2.06-.94 2.06-2.06.94zm-11 1L8.5 8.5l.94-2.06 2.06-.94-2.06-.94L8.5 2.5l-.94 2.06-2.06.94zm10 10l.94 2.06.94-2.06 2.06-.94-2.06-.94-.94-2.06-.94 2.06-2.06.94z\"/><path d=\"M17.41 7.96l-1.37-1.37c-.4-.4-.92-.59-1.43-.59-.52 0-1.04.2-1.43.59L10.3 9.45l-7.72 7.72c-.78.78-.78 2.05 0 2.83L4 21.41c.39.39.9.59 1.41.59.51 0 1.02-.2 1.41-.59l7.78-7.78 2.81-2.81c.8-.78.8-2.07 0-2.86zM5.41 20L4 18.59l7.72-7.72 1.47 1.35L5.41 20z\"/>\n",
       "  </svg>\n",
       "      </button>\n",
       "      \n",
       "  <style>\n",
       "    .colab-df-container {\n",
       "      display:flex;\n",
       "      flex-wrap:wrap;\n",
       "      gap: 12px;\n",
       "    }\n",
       "\n",
       "    .colab-df-convert {\n",
       "      background-color: #E8F0FE;\n",
       "      border: none;\n",
       "      border-radius: 50%;\n",
       "      cursor: pointer;\n",
       "      display: none;\n",
       "      fill: #1967D2;\n",
       "      height: 32px;\n",
       "      padding: 0 0 0 0;\n",
       "      width: 32px;\n",
       "    }\n",
       "\n",
       "    .colab-df-convert:hover {\n",
       "      background-color: #E2EBFA;\n",
       "      box-shadow: 0px 1px 2px rgba(60, 64, 67, 0.3), 0px 1px 3px 1px rgba(60, 64, 67, 0.15);\n",
       "      fill: #174EA6;\n",
       "    }\n",
       "\n",
       "    [theme=dark] .colab-df-convert {\n",
       "      background-color: #3B4455;\n",
       "      fill: #D2E3FC;\n",
       "    }\n",
       "\n",
       "    [theme=dark] .colab-df-convert:hover {\n",
       "      background-color: #434B5C;\n",
       "      box-shadow: 0px 1px 3px 1px rgba(0, 0, 0, 0.15);\n",
       "      filter: drop-shadow(0px 1px 2px rgba(0, 0, 0, 0.3));\n",
       "      fill: #FFFFFF;\n",
       "    }\n",
       "  </style>\n",
       "\n",
       "      <script>\n",
       "        const buttonEl =\n",
       "          document.querySelector('#df-bb51e636-d351-47f5-b86c-20410a7c6cb6 button.colab-df-convert');\n",
       "        buttonEl.style.display =\n",
       "          google.colab.kernel.accessAllowed ? 'block' : 'none';\n",
       "\n",
       "        async function convertToInteractive(key) {\n",
       "          const element = document.querySelector('#df-bb51e636-d351-47f5-b86c-20410a7c6cb6');\n",
       "          const dataTable =\n",
       "            await google.colab.kernel.invokeFunction('convertToInteractive',\n",
       "                                                     [key], {});\n",
       "          if (!dataTable) return;\n",
       "\n",
       "          const docLinkHtml = 'Like what you see? Visit the ' +\n",
       "            '<a target=\"_blank\" href=https://colab.research.google.com/notebooks/data_table.ipynb>data table notebook</a>'\n",
       "            + ' to learn more about interactive tables.';\n",
       "          element.innerHTML = '';\n",
       "          dataTable['output_type'] = 'display_data';\n",
       "          await google.colab.output.renderOutput(dataTable, element);\n",
       "          const docLink = document.createElement('div');\n",
       "          docLink.innerHTML = docLinkHtml;\n",
       "          element.appendChild(docLink);\n",
       "        }\n",
       "      </script>\n",
       "    </div>\n",
       "  </div>\n",
       "  "
      ],
      "text/plain": [
       "   204  228  0.979939\n",
       "0  228  204  0.979939\n",
       "1  204  196  0.972402\n",
       "2  196  204  0.972402\n",
       "3  204   12  0.980255\n",
       "4   12  204  0.980255"
      ]
     },
     "execution_count": 28,
     "metadata": {},
     "output_type": "execute_result"
    }
   ],
   "source": [
    "graph = pd.read_csv('Graph/graph.tsv',sep='\\t')\n",
    "graph.head(5)"
   ]
  },
  {
   "cell_type": "code",
   "execution_count": null,
   "metadata": {
    "colab": {
     "base_uri": "https://localhost:8080/"
    },
    "id": "iEd2j40JqGxq",
    "outputId": "ea524cc0-e847-4e68-84ba-764ca6bc8068"
   },
   "outputs": [
    {
     "data": {
      "text/plain": [
       "12977"
      ]
     },
     "execution_count": 29,
     "metadata": {},
     "output_type": "execute_result"
    }
   ],
   "source": [
    "len(graph)"
   ]
  },
  {
   "cell_type": "markdown",
   "metadata": {
    "id": "KVb_DPnH2X3Q"
   },
   "source": [
    "#### **Creating final train and test samples**"
   ]
  },
  {
   "cell_type": "code",
   "execution_count": null,
   "metadata": {
    "colab": {
     "base_uri": "https://localhost:8080/"
    },
    "id": "clSInhqNqala",
    "outputId": "fbc266ae-98d0-472b-c9ac-70926945acea"
   },
   "outputs": [
    {
     "data": {
      "text/plain": [
       "440"
      ]
     },
     "execution_count": 30,
     "metadata": {},
     "output_type": "execute_result"
    }
   ],
   "source": [
    "def _bytes_feature_image(image):\n",
    "    return tf.train.Feature(\n",
    "        bytes_list=tf.train.BytesList(value=[image]))\n",
    "\n",
    "def create_example(image, label, record_id):\n",
    "  \"\"\"Create tf.Example containing the sample's image, label, and ID.\"\"\"\n",
    "  features = {\n",
    "      'id': _bytes_feature(str(record_id)),\n",
    "      'image': _bytes_feature_image(image.numpy()),\n",
    "      'label': _int64_feature(np.asarray([label])),\n",
    "  }\n",
    "  return tf.train.Example(features=tf.train.Features(feature=features))\n",
    "\n",
    "def create_records(images, labels, record_path, starting_record_id):\n",
    "  record_id = int(starting_record_id)\n",
    "  with tf.io.TFRecordWriter(record_path) as writer:\n",
    "    for image, label in zip(images, labels):\n",
    "      image = tf.io.encode_png(tf.cast(image,tf.uint8))\n",
    "      example = create_example(image, label, record_id)\n",
    "      record_id = record_id + 1\n",
    "      writer.write(example.SerializeToString())\n",
    "  return record_id\n",
    "\n",
    "# Persist TF.Example features (images and labels) for training and test\n",
    "# data in TFRecord format.\n",
    "next_record_id = create_records(X_train, Y_train,\n",
    "                                'Graph/data/train_data.tfr', 0)\n",
    "create_records(X_test,Y_test, 'Graph/data/test_data.tfr',\n",
    "               next_record_id)"
   ]
  },
  {
   "cell_type": "markdown",
   "metadata": {
    "id": "aTDmuRVEbY-v"
   },
   "source": [
    "**TFRecord read function**"
   ]
  },
  {
   "cell_type": "code",
   "execution_count": null,
   "metadata": {
    "id": "2q9l0iaTZPby"
   },
   "outputs": [],
   "source": [
    "def read_record(file_path):\n",
    "    raw_image_dataset = tf.data.TFRecordDataset(file_path)\n",
    "\n",
    "    image_feature_description = {\n",
    "        'id': tf.io.FixedLenFeature([], tf.string),\n",
    "        'image': tf.io.FixedLenFeature([], tf.string),\n",
    "        'label': tf.io.FixedLenFeature([], tf.int64),\n",
    "    }\n",
    "    \n",
    "    def _parse_image_function(example_proto):\n",
    "      return tf.io.parse_single_example(example_proto, image_feature_description)\n",
    "\n",
    "    parsed_image_dataset = raw_image_dataset.map(_parse_image_function)\n",
    "    \n",
    "    for image_features in parsed_image_dataset:\n",
    "      id = image_features['id'].numpy()\n",
    "      image_raw = image_features['image'].numpy()\n",
    "      label = image_features['label'].numpy()\n",
    "\n",
    "    return parsed_image_dataset"
   ]
  },
  {
   "cell_type": "code",
   "execution_count": null,
   "metadata": {
    "id": "0fAKfgrpaU5G"
   },
   "outputs": [],
   "source": [
    "read_train_data_tfr = read_record('Graph/data/train_data.tfr')"
   ]
  },
  {
   "cell_type": "code",
   "execution_count": null,
   "metadata": {
    "colab": {
     "base_uri": "https://localhost:8080/",
     "height": 1000
    },
    "id": "4Sw4xxonbGHr",
    "outputId": "90dcee6b-4b92-4314-84b9-7106f7f490ea"
   },
   "outputs": [
    {
     "name": "stdout",
     "output_type": "stream",
     "text": [
      "b'0'\n"
     ]
    },
    {
     "data": {
      "image/png": "[encoded data removed]",
      "text/plain": [
       "<Figure size 432x288 with 1 Axes>"
      ]
     },
     "metadata": {
      "needs_background": "light"
     },
     "output_type": "display_data"
    },
    {
     "name": "stdout",
     "output_type": "stream",
     "text": [
      "\n",
      "Label:  1\n",
      "1\n",
      "b'1'\n"
     ]
    },
    {
     "data": {
      "image/png": "[encoded data removed]",
      "text/plain": [
       "<Figure size 432x288 with 1 Axes>"
      ]
     },
     "metadata": {
      "needs_background": "light"
     },
     "output_type": "display_data"
    },
    {
     "name": "stdout",
     "output_type": "stream",
     "text": [
      "\n",
      "Label:  2\n",
      "2\n",
      "b'2'\n"
     ]
    },
    {
     "data": {
      "image/png": "[encoded data removed]",
      "text/plain": [
       "<Figure size 432x288 with 1 Axes>"
      ]
     },
     "metadata": {
      "needs_background": "light"
     },
     "output_type": "display_data"
    },
    {
     "name": "stdout",
     "output_type": "stream",
     "text": [
      "\n",
      "Label:  2\n",
      "2\n",
      "b'3'\n"
     ]
    },
    {
     "data": {
      "image/png": "[encoded data removed]",
      "text/plain": [
       "<Figure size 432x288 with 1 Axes>"
      ]
     },
     "metadata": {
      "needs_background": "light"
     },
     "output_type": "display_data"
    },
    {
     "name": "stdout",
     "output_type": "stream",
     "text": [
      "\n",
      "Label:  2\n",
      "2\n",
      "b'4'\n"
     ]
    },
    {
     "data": {
      "image/png": "[encoded data removed]",
      "text/plain": [
       "<Figure size 432x288 with 1 Axes>"
      ]
     },
     "metadata": {
      "needs_background": "light"
     },
     "output_type": "display_data"
    },
    {
     "name": "stdout",
     "output_type": "stream",
     "text": [
      "\n",
      "Label:  1\n",
      "1\n",
      "b'5'\n"
     ]
    },
    {
     "data": {
      "image/png": "[encoded data removed]",
      "text/plain": [
       "<Figure size 432x288 with 1 Axes>"
      ]
     },
     "metadata": {
      "needs_background": "light"
     },
     "output_type": "display_data"
    },
    {
     "name": "stdout",
     "output_type": "stream",
     "text": [
      "\n",
      "Label:  2\n",
      "2\n",
      "b'6'\n"
     ]
    },
    {
     "data": {
      "image/png": "[encoded data removed]",
      "text/plain": [
       "<Figure size 432x288 with 1 Axes>"
      ]
     },
     "metadata": {
      "needs_background": "light"
     },
     "output_type": "display_data"
    },
    {
     "name": "stdout",
     "output_type": "stream",
     "text": [
      "\n",
      "Label:  1\n",
      "1\n",
      "b'7'\n"
     ]
    },
    {
     "data": {
      "image/png": "[encoded data removed]",
      "text/plain": [
       "<Figure size 432x288 with 1 Axes>"
      ]
     },
     "metadata": {
      "needs_background": "light"
     },
     "output_type": "display_data"
    },
    {
     "name": "stdout",
     "output_type": "stream",
     "text": [
      "\n",
      "Label:  0\n",
      "0\n",
      "b'8'\n"
     ]
    },
    {
     "data": {
      "image/png": "[encoded data removed]",
      "text/plain": [
       "<Figure size 432x288 with 1 Axes>"
      ]
     },
     "metadata": {
      "needs_background": "light"
     },
     "output_type": "display_data"
    },
    {
     "name": "stdout",
     "output_type": "stream",
     "text": [
      "\n",
      "Label:  0\n",
      "0\n",
      "b'9'\n"
     ]
    },
    {
     "data": {
      "image/png": "[encoded data removed]",
      "text/plain": [
       "<Figure size 432x288 with 1 Axes>"
      ]
     },
     "metadata": {
      "needs_background": "light"
     },
     "output_type": "display_data"
    },
    {
     "name": "stdout",
     "output_type": "stream",
     "text": [
      "\n",
      "Label:  1\n",
      "1\n"
     ]
    }
   ],
   "source": [
    "for image_features in read_train_data_tfr.take(10):\n",
    "  id = image_features['id'].numpy()\n",
    "  image = tf.io.decode_png(image_features['image'].numpy(),channels=3)\n",
    "  label = image_features['label'].numpy()\n",
    "  print(id)\n",
    "  plot((image,label))\n",
    "  print(label)"
   ]
  },
  {
   "cell_type": "markdown",
   "metadata": {
    "id": "tu75WsuPbgFm"
   },
   "source": [
    "#### **Creating augmented training set using nsl.tools.pack_nbrs**"
   ]
  },
  {
   "cell_type": "code",
   "execution_count": null,
   "metadata": {
    "id": "nyyO1Yy6USzo"
   },
   "outputs": [],
   "source": [
    "nsl.tools.pack_nbrs(\n",
    "    'Graph/data/train_data.tfr',\n",
    "    '',\n",
    "    'Graph/graph.tsv',\n",
    "    'Graph/data/augmented_train_data.tfr',\n",
    "    add_undirected_edges=True,\n",
    "    max_nbrs=3)"
   ]
  },
  {
   "cell_type": "markdown",
   "metadata": {
    "id": "WnQ_twlCgph2"
   },
   "source": [
    "**Reading augmented training dataset and testing dataset**"
   ]
  },
  {
   "cell_type": "code",
   "execution_count": null,
   "metadata": {
    "id": "xOFUqwyRWX7c"
   },
   "outputs": [],
   "source": [
    "augmented_dataset = read_record('Graph/data/augmented_train_data.tfr')"
   ]
  },
  {
   "cell_type": "code",
   "execution_count": null,
   "metadata": {
    "colab": {
     "base_uri": "https://localhost:8080/",
     "height": 338
    },
    "id": "zxlaUSprb3Lk",
    "outputId": "c6765ca6-1976-417a-bc8d-e5ddfcade005"
   },
   "outputs": [
    {
     "name": "stdout",
     "output_type": "stream",
     "text": [
      "b'0'\n"
     ]
    },
    {
     "data": {
      "image/png": "[encoded data removed]",
      "text/plain": [
       "<Figure size 432x288 with 1 Axes>"
      ]
     },
     "metadata": {
      "needs_background": "light"
     },
     "output_type": "display_data"
    },
    {
     "name": "stdout",
     "output_type": "stream",
     "text": [
      "\n",
      "Label:  1\n",
      "1\n"
     ]
    }
   ],
   "source": [
    "for image_features in augmented_dataset.take(1):\n",
    "  id = image_features['id'].numpy()\n",
    "  image = image_features['image'].numpy()\n",
    "  label = image_features['label'].numpy()\n",
    "  print(id)\n",
    "  plot((tf.io.decode_png(image,channels=3),label))\n",
    "  print(label)"
   ]
  },
  {
   "cell_type": "code",
   "execution_count": null,
   "metadata": {
    "id": "fu9Oz3RrcBIu"
   },
   "outputs": [],
   "source": [
    "testing_dataset = read_record('Graph/data/test_data.tfr')"
   ]
  },
  {
   "cell_type": "code",
   "execution_count": null,
   "metadata": {
    "colab": {
     "base_uri": "https://localhost:8080/"
    },
    "id": "4BZXIZS_ggwk",
    "outputId": "44143cd6-c989-47e4-ec53-ef55da775966"
   },
   "outputs": [
    {
     "name": "stdout",
     "output_type": "stream",
     "text": [
      "b'330'\n",
      "b'\\x89PNG\\r\\n\\x1a\\n\\x00\\x00\\x00\\rIHDR\\x00\\x00\\x01+\\x00\\x00\\x01+\\x08\\x02\\x00\\x00\\x00\\t\\xc62\\xe3\\x00\\x00 \\x00IDATx\\x9c\\xed\\x9dy|\\x14E\\x16\\xc7\\xa7\\xe7\\xcc\\xe4\\x9a\\\\$\\x90d \\x04\\xc2!\\tw\\x80 \\x82r-\\xa7\\xa2\\xa0\\xb0(\\x8b \\xbb\\xea\\xe2\\x8a\\x82\\xca*.\\xa2\\xc2\\xcar\\x8b\\xa0\\x0b\\x8a\\xc0\\xa2Q\\\\\\xe4Fn\\x14A\\x84`$@0&\\xe4 $\\x90\\xfb\\x98d2\\x93\\xb9\\xba\\xf7\\x8f\\x96lL&\\x9d\\x9e\\xee\\xea\\xae\\x9e\\xce\\xfb\\xfe\\xc1\\x87$SU\\xaf\\xaa\\xfb7]]U\\xef=\\x82\\xa2(\\x05\\x00\\x00\\x98P\\xe26\\x00\\x00\\xda4\\xa0@\\x00\\xc0\\t(\\x10\\x00p\\x02\\n\\x04\\x00\\x9c\\x80\\x02\\x01\\x00\\'\\xa0@\\x00\\xc0\\t(\\x10\\x00p\\x02\\n\\x04\\x00\\x9c\\x80\\x02\\x01\\x00\\'\\xa0@\\x00\\xc0\\t(\\x10\\x00p\\x02\\n\\x04\\x00\\x9c\\x80\\x02\\x01\\x00\\'\\xa0@\\x00\\xc0\\t(\\x10\\x00p\\x02\\n\\x04\\x00\\x9c\\x80\\x02\\x01\\x00\\'\\xa0@\\x00\\xc0\\t(\\x10\\x00p\\x02\\n\\x04\\x00\\x9c\\x80\\x02\\x01\\x00\\'\\xa0@\\x00\\xc0\\t(\\x10\\x00p\\x02\\n\\x04\\x00\\x9c\\x80\\x02\\x01\\x00\\'\\xa0@\\x00\\xc0\\t(\\x10\\x00p\\x02\\n\\x04\\x00\\x9c\\x80\\x02\\x01\\x00\\'\\xa0@\\x00\\xc0\\t(\\x10\\x00p\\x02\\n\\x04\\x00\\x9c\\x80\\x02\\x01\\x00\\'\\xa0@\\x00\\xc0\\t(\\x10\\x00p\\x02\\n\\x04\\x00\\x9c\\x80\\x02\\x01\\x00\\'\\xa0@\\x00\\xc0\\t(\\x10\\x00p\\x02\\n\\x04\\x00\\x9c\\x80\\x02\\x01\\x00\\'\\xa0@\\x00\\xc0\\t(\\x10\\x00p\\x02\\n\\x04\\x00\\x9c\\x80\\x02\\x01\\x00\\'\\xa0@\\x00\\xc0\\t(\\x10\\x00p\\x02\\n\\x04\\x00\\x9c\\x80\\x02\\x01\\x00\\'j\\xdc\\x06x\\x13\\x14E9\\x1c\\x8e\\xfa\\xfaz\\xb3\\xd9l2\\x99*++\\xcb\\xca\\xcaJJJ\\xee\\xdc\\xb9STT\\xe4p8\\\\.\\x97\\xd3\\xe9t8\\x1c\\x0e\\x87\\xc3v\\x8f\\xfa\\xfaz\\xbb\\xddN\\xffK\\xe3\\xbc\\x07I\\x92$IR\\x14\\x85\\xbbg^Cpppll\\xec\\x80\\x01\\x03\\xe6\\xcc\\x993d\\xc8\\x10\\xdc\\xe6 \\x80\\x80\\xcb\\xafP((\\x8a2\\x9b\\xcd\\x97/_\\xde\\xbbw\\xef\\xc5\\x8b\\x17322,\\x16\\x0bn\\xa3\\x80\\xd6\\xe9\\xdf\\xbf\\xff\\xa6M\\x9b\\x92\\x92\\x92p\\x1b\\xc2\\x1dP\\xa0\\xe2\\xf6\\xed\\xdb\\xbd{\\xf76\\x99L\\xb8\\r\\x018\\xa2R\\xa9\\xbe\\xfa\\xea\\xab\\xc7\\x1e{\\x0c\\xb7!\\\\h\\xd3\\xef\\x81W\\xaf^\\xed\\xd5\\xabW\\xa7N\\x9d@~^\\x8d\\xcb\\xe5\\x9a:u\\xaa\\xc1`8z\\xf4(n[<\\x87j\\x93\\xd8l\\xb6\\xe7\\x9f\\x7f\\x1e\\xf7\\xd8\\x03\\xe8IHH0\\x9b\\xcd\\xb8\\xef/\\x0fh\\x8b\\xb3\\xd0\\xb2\\xb2\\xb2\\xf6\\xed\\xdb\\x93$\\x89\\xdb\\x10@(\\xb2\\xb2\\xb2\\xe2\\xe2\\xe2p[\\xc1\\x8a67\\x0b\\xdd\\xb7o_TT\\x14\\xc8O\\xdet\\xeb\\xd6\\xed\\x9dw\\xde\\xc1m\\x05;p?\\x84\\xc5\\x83$\\xc9\\xcd\\x9b7\\xe3\\x1eo@<\\xe6\\xce\\x9d\\x8b\\xfb\\xa6k\\x9d\\xb6\\xa2@\\x92$W\\xacX\\x81\\xfb\\x96\\x00\\xc4f\\xd8\\xb0a\\xb8o\\xbdVh\\x13\\n\\x04\\xf9\\xb5e$.\\xc26\\xa1\\xc0\\xed\\xdb\\xb7\\xe3\\xbe\\r\\x00\\x9c<\\xfb\\xec\\xb3\\xb8\\xef\\xc1\\x16\\x91\\xbf\\x02O\\x9e<\\x89\\xfb\\x06p\\x0fA\\x10\\x04A(\\xefA\\xff\\x88\\xdb(\\xd9\\xb2f\\xcd\\x1a\\xdcw\\xa2{d\\xbe\\x1bQRR\\x12\\x15\\x15\\xe5r\\xb9Dh\\x8b \\x08\\xbd^\\x1f\\x10\\x10\\x10\\x1a\\x1a\\x1a\\x1e\\x1e\\x1e\\x11\\x11\\xd1\\xa1C\\x87\\xe8\\xe8h\\x83\\xc1\\x10\\x10\\x10\\x10\\x10\\x10\\xe0\\xef\\xef\\xef\\xeb\\xeb\\xab\\xd5j\\xfd\\xfd\\xfd\\xb5Z\\xadJ\\xa5j\\\\\\xb6\\xb1\\x0e\\xedv;}\\xb8\\xd4\\xe9t\\xda\\x1aQSSSTTt\\xf7\\xee\\xdd\\xc2\\xc2\\xc2\\xa2\\xa2\\xa2\\xc2\\xc2\\xc2\\xc2\\xc2B8N\\xc0\\x92\\xdb\\xb7o\\x1b\\x8dF\\xdcV4E\\xce\\n\\xb4Z\\xad\\xe1\\xe1\\xe1f\\xb3Y\\x88\\xca\\xd5j\\xb5\\xc1`\\x88\\x8b\\x8b\\x1b4hPbbb\\x9f>}z\\xf4\\xe8\\xa1\\xd1h\\x84h\\xcbSrssO\\x9f>}\\xf8\\xf0\\xe13g\\xce\\x08\\xd4}oD\\xa5R\\x99L&???\\xdc\\x86\\xfc\\x1e\\xdc\\x0fa\\xa1 I\\xb2{\\xf7\\xee\\xc8\\x87K\\xa3\\xd1\\x8c\\x1c9\\xf2\\xec\\xd9\\xb3v\\xbb\\x1dw\\x17\\xd9\\xf2\\xc4\\x13O4~\\xdeJ\\x19\\x82 \\xb4Z\\xadN\\xa7\\xd3h4B\\xd8\\x1c\\x13\\x13\\x83\\xfbj4E\\xb6\\n|\\xf5\\xd5W\\x91_\\xbf\\xe9\\xd3\\xa7WTT\\xd0\\xfeD\\xde\\x85\\xddn_\\xb9r%\\xaaq\\x989sfJJJAA\\x81\\xc9d\\xb2X,&\\x93)??\\xff\\xec\\xd9\\xb3\\x13\\'N\\xe4\\\\\\xe7\\xe2\\xc5\\x8b\\x0b\\n\\n\\x9a[n\\xb3\\xd9\\xca\\xca\\xca\\xd2\\xd3\\xd3\\xb7n\\xdd\\x1a\\x15\\x15\\xc5\\xdf\\xf8\\xf7\\xdf\\x7f_\\xfc\\xf1g@\\x9e\\nLIIQ*Q\\x1e\\xf7!\\x08\\xe2\\x83\\x0f>\\xc0\\xdd-\\xbe\\x14\\x14\\x14\\xf0\\x9f\\x83\\x9d>}\\x9a\\xb9\\x95\\xa1C\\x87zZ\\xe7\\x95+W\\xd8\\xf7b\\xcb\\x96-\\x81\\x81\\x81|\\xba\\xe0t:y\\x8d#Rd\\xa8@\\x9b\\xcd\\x86v\\xae\\xef\\xe3\\xe3\\xe3\\xd1-\"el6\\x1b\\x9f\\xef\\xa6\\xc7\\x1f\\x7f\\x9cM+\\x1e\\x9d\\xc9\\x1c>|8\\x87\\x8e|\\xfa\\xe9\\xa7\\x9c\\x97\\x8e#\"\"8\\xb4(\\x102T`BB\\x02\\xb7\\x0b\\xe3\\x96\\x0e\\x1d:dgg\\xe3\\xee\\x13J\\xca\\xca\\xca8\\x8fFii)\\x9b&l6\\x1b\\xfb\\xb7\\xb8\\xf2\\xf2rn\\x1d)//W\\xab9\\x06y\\xb8|\\xf92\\xb7F\\x91#7\\x05~\\xf9\\xe5\\x97\\xdc.\\x89[BBB8\\xdf\\x1fR\\xa6O\\x9f>\\xdc\\x06\\x84}\\x13\\xd5\\xd5\\xd5l\\x9eQ\\xb3f\\xcd\\xe2\\xd3\\x11\\xab\\xd5\\xca\\xad#j\\xb5\\x9aO\\xbb\\x08\\x91\\x95\\x02\\xadV+\\xc2M\\xed\\xc0\\xc0@\\x97\\xcb\\x85\\xbbO\\x82\\xc0\\xed\\x90\\xd0\\xa0A\\x83<j\\xe5\\xea\\xd5\\xab\\xcc\\x97#<<\\x9c\\x7f_\\xa6O\\x9f\\xce\\xed\\xfa\\xae]\\xbb\\x96\\x7f\\xeb\\xfc\\x91\\x8f\\x02I\\x92\\x1c0`\\x00\\xb7\\x8b\\xd1\\x1c\\x8dF\\x93\\x97\\x97\\x87\\xbbOBQ^^\\xceaLV\\xae\\\\\\xe9iCUUU--`\\xce\\x9f?\\x1fI_\\xce\\x9c9\\xc3\\xed\\x12K\\xe41(\\x9fXi\\xc7\\x8f\\x1fOMMEU[rrrLL\\x0c\\xaa\\xda\\xa4\\x06\\xb7\\xb5\\xc4\\x11#FxZ$((\\xa8\\xb0\\xb0\\xd0\\xe1p\\x9c8q\\xe2\\xda\\xb5k\\x16\\x8b%,,,111))\\t\\xd5l\\xe5\\xc1\\x07\\x1f\\xe4V\\xd0\\xe9t._\\xbe\\xfc\\xcd7\\xdfDb\\x06gdr&\\xc6j\\xb5\\x1a\\x0c\\x06\\x87\\xc3\\x81\\xa4\\xb6!C\\x86\\\\\\xb8pA\\xc6\\xa74O\\x9d:5f\\xcc\\x18OKedd\\xf4\\xe8\\xd1C\\x08{x\\xc2\\xf9Ji4\\x1a\\xab\\xd5\\x8a\\xf7\\xb8\\x82L|\\xe4g\\xcc\\x98\\x81J~j\\xb5\\xfa\\xf4\\xe9\\xd32\\x96\\x9fB\\xa1X\\xbat)\\x87R\\x9c\\x17\\x1e\\x85F\\xab\\xd5r+\\xe8p8\\xf6\\xef\\xdf\\x8f\\xd4\\x16\\x8f\\x91\\x83\\x02\\xb3\\xb3\\xb3\\x0f\\x1e<\\x88\\xaa\\xb6\\xa4\\xa4$___T\\xb5I\\x90K\\x97.\\xfd\\xf8\\xe3\\x8f\\x1c\\nJv\\xba\\xc4y\"\\xaaP(\\x1e\\x7f\\xfcqt\\x86p\\xc1\\xeb\\x15H\\x92$\\x87\\t\\x15\\x03\\x1b7nDX\\x9b\\xd48~\\xfc8\\xe7P\\xd3\\xe2\\xb8\\x98p\\x80O\\xf0l\\x8a\\xa2\\xbe\\xfd\\xf6[\\x84\\xc6x\\x8a\\xd7+p\\xd3\\xa6M\\xb7n\\xddBXa\\xdf\\xbe}\\x11\\xd6&\\x1dH\\x92\\xec\\xd9\\xb3\\xe7\\xb8q\\xe38\\xd7`\\xb7\\xdb\\x11\\xda\\x83\\x10\\xce\\xdb\\x9b4\\x0b\\x17.De\\t\\x07\\xbc[\\x81V\\xabu\\xc1\\x82\\x05\\x08+\\xec\\xd8\\xb1#\\xc2\\xda\\xa4\\x80\\xd9l^\\xbf~}ll\\xacJ\\xa5\\xfa\\xf5\\xd7_\\xf9TUYY\\x89\\xca*\\xb4\\xb4k\\xd7\\x8eO\\xf1\\xb4\\xb44\\x8c\\x13l\\x89\\xbe[\\xb3\\x04\\xb9\\x03\\x04\\xda\\t\\xad\\xc88\\x9d\\xce\\xba\\xba\\xba\\x9a\\x9a\\x9a\\xb2\\xb2\\xb2\\xfd\\xfb\\xf7\\'\\'\\'\\xe7\\xe5\\xe5!\\x8c\\xcbXXX\\x88\\xaa*\\xb4\\xf0?\\x06\\xfc\\xe7?\\xff\\xf9\\x93O>Ab\\x8c\\xa7x\\xb1\\x02KKK?\\xfc\\xf0C\\xb4u\\x0e\\x1c8\\x10m\\x85h\\xa1\\xbf\\xaa)\\x8a\\xaa\\xa9\\xa9)--\\xbd}\\xfbvnnnFFFfffVVVC\\xfe&\\x81\\xa2\\xa1\\xfe\\xf4\\xd3OO=\\xf5\\x94\\x105\\xf3\\x84\\xbfctrr2(\\xd03(\\x8a\\x1a;v,\\xf2\\xc9CXX\\x18\\xda\\n9\\xe3r\\xb9\\xce\\x9e=\\xfb\\xef\\x7f\\xff\\xfb\\xc0\\x81\\x03\\x12y\\x01;w\\xee\\x1cn\\x13\\xdc\\xc3\\x7f\\xeb\\xc8j\\xb5\\xe6\\xe5\\xe5u\\xee\\xdc\\x19\\x89=\\x1e\\xe1\\xad\\nt8\\x1cW\\xaf^E^-Z\\xafB\\xce\\xa4\\xa7\\xa7\\x0f\\x1b6Lj\\x01`~\\xfe\\xf9g\\xdc&\\xb8\\x07\\xc97\\xd4\\x8b/\\xbex\\xe8\\xd0!\\xfe\\xf5x\\x8a$n8\\x0e\\xa8\\xd5j\\x9e\\xef\\xdfn\\x91\\xc2\\xd3f\\xcf\\x9e=\\t\\t\\tR\\x93\\x9f\\x94\\xa9\\xaa\\xaa\\xe2_\\xc9\\xe1\\xc3\\x87\\xf9W\\xc2\\x01oU\\xa0R\\xa9\\\\\\xb7n\\x1d\\xf2j\\xb1\\xc75\\xb2Z\\xad3f\\xcc\\xc0k\\x03\\x03\\x19\\x19\\x19\\xb8Mp\\xc3\\xe7\\x9f\\x7f\\x8e\\xa4\\x9e\\x94\\x94\\x14$\\xf5x\\x84\\xb7*P\\xa1P<\\xf9\\xe4\\x93\\xc8o\\xd6\\xfa\\xfaz\\xb4\\x15z\\xca\\xd6\\xad[%\\xbb\\xf1\\xadP(\\x90/}\\xf1\\x87B\\x17\\x91\\xf9\\xfd\\xf7\\xdfGR\\x8fGx\\xb1\\x02\\t\\x82\\xd8\\xb5kW\\xaf^\\xbd\\x10\\xd6\\x89\\xeap)g$\\xbe\\x18+\\xc1\\xd47s\\xe7\\xceEU\\x15Z\\xf7n\\x96x\\xb1\\x02\\x15\\n\\x85Z\\xad\\xfe\\xf9\\xe7\\x9f\\x11n\\xe2a\\xcfjv\\xff\\xfd\\xf7\\x7f\\xf6\\xd9g\\x92\\x8biy\\x0f\\x8a\\xa2$\\xb5!\\xb1f\\xcd\\x9a\\x1d;v\\xa0\\xaa\\x8d$I\\xf1\\xbf\\x82U\\xcb\\x96-\\x13\\xb9I\\xb4\\xa8T\\xaa\\x193fdgg\\xa7\\xa7\\xa7\\xf3\\xafm\\xfc\\xf8\\xf1|\\x0e\\x19\"\\xa1w\\xef\\xde\\xaf\\xbf\\xfezdd\\xa4\\xc3\\xe1\\xa8\\xab\\xab\\xb3\\xd9l$I\\x12\\x04\\xa1R\\xa9\\x08\\xe2\\xff\\xded*\\x95*   $$\\xa4}\\xfb\\xf6\\x1d;v\\xec\\xd4\\xa9Sll\\xec}\\xf7\\xdd\\xd7\\xad[\\xb7.]\\xba\\x84\\x85\\x85\\xe9t:\\x9dN\\xe7t:\\x9dN\\'B\\xf3\\xae_\\xbf\\xeep8\\x06\\r\\x1a\\xa4\\xd3\\xe9\\x10V\\xeb)v\\xbb\\xfd\\xa9\\xa7\\x9eZ\\xbf~=\\xf2jG\\x8f\\x1e\\x8d\\xb6\\xceV\\xc0\\xe4\\x19\\x8c\\x18\\x87\\xc3\\x81\\xe4|\\xcc\\xa6M\\x9bpw\\xe5w\\xb8\\\\.\\x87\\xc3QZZZ^^N\\x07\\xae\\xb7\\xdb\\xedf\\xb3\\xb9\\xae\\xae\\xce\\xe1p\\x90\\xf7\\xa0(\\xaa\\xf1\\xffiH\\x92\\xa4\\x8bggg\\xef\\xde\\xbd{\\xf0\\xe0\\xc1\\xfc\\xc7\\xa71J\\xa5\\xb2s\\xe7\\xceX\"\\xff\\xadX\\xb1B \\xf7\\xb1\\xc8\\xc8H\\x91\\xfb\"\\x13\\x05R\\x14\\xe5t:\\xdf~\\xfbm\\x9e\\x17`\\xfb\\xf6\\xed\\xb8\\xfb! \\x15\\x15\\x15\\xef\\xbe\\xfb.\\xf2{\\xf7\\xec\\xd9\\xb3\"\\x18_UU\\xb5j\\xd5*\\xa1\\xcf\\xcd\\xd3I;D\\xe8N\\x03\\xf2Q EQ.\\x97k\\xf9\\xf2\\xe5|.\\xc0\\xae]\\xbbpwBpn\\xdc\\xb8\\x81\\xdc\\x01\\x12yD9\\x93\\xc9t\\xf2\\xe4\\xc9\\xf9\\xf3\\xe7\\xc7\\xc6\\xc6\\xa25\\xb5Urss\\xd1\\xf6\\x85\\x19Y)\\x90\\xa2(\\x92$\\x17/^\\xccy\\xf4w\\xec\\xd8\\x81\\xbb\\x07b\\xc0\\xcdG\\x9e\\x19T\\xb6m\\xdc\\xb8\\x11o\\x80\\x82\\x85\\x0b\\x17\\xa2\\xea\\x0b\\x1b\\xe4\\xa6@\\x8a\\xa2\\\\.\\x17g\\xa7\\xe96\\xa2@!|R\\x8f\\x1f?\\xce\\xd3\\xaa\\x993g\"\\xb7\\x8a\\x03\"\\xc7P\\xf3\\xee\\xdd\\x08\\xb7(\\x95\\xca\\x93\\'Or[\\xd0\\x97H\\xfa1\\xa1\\x11\\xe2@\\xdfK/\\xbd\\xc4\\xb9\\xec\\x91#G\\x94Jerr2:s\\xb8\\x83v\\xe9\\xb8Ud\\xa8@\\x85B\\xa1V\\xab\\xb9E\\xa1\\x93w\\x84\\x98\\x06BBB\\x90\\xd7\\xc9\\xf9\\xc0\\xda\\xbcy\\xf3&M\\x9aDI)\\x08\\r\\x92\\x9d-\\x96\\xc8S\\x81\\n\\x85b\\xf6\\xec\\xd9\\x1cJIv+\\x1c-<s\\x0f\\xb5\\x04\\x07o\\x95\\xa7\\x9f~z\\xdb\\xb6mB\\x18\\xc3\\x87\\xe3\\xc7\\x8f\\x8b\\xd6\\x96l\\x15\\xc8\\xedm\\xde[2]\\xf2D \\'\\xac/\\xbe\\xf8\\xc2\\xa3\\xcf\\xa7\\xa6\\xa6\\xee\\xdc\\xb9S\\x08Kx\"\\xa6\\x9f\\x84l\\x15\\xf8\\xcb/\\xbfp(%\\xe5S\\xd1\\x08\\xe1\\x9c\\xf0\\x84\\x99+W\\xaex\\xf4y\\xc9\\x1e\\x82={\\xf6\\xachm\\xc9V\\x81\\xdcBb\\xb6\\x11\\x8a\\x8b\\x8b\\x85\\xa8\\xd6\\xa3\\x1c\\xb7\\xd2tt\\xa2\\x11\\xf3\\xa5T\\xb6\\n\\xbcv\\xed\\x1a\\x87R\\x9c\\xa3/{\\x17\\xa5\\xa5\\xa5BT\\xdb\\xa9S\\'\\xf6\\x1f\\xf6\\xd4\\xe3\\x9e \\x88\\xf8\\xf8\\xf8\\x993g\\xae^\\xbd\\xfa\\xf4\\xe9\\xd3999v\\xbb\\xdd\\xe5r]\\xbbv\\r\\xa1{D\\x03\\x02\\rQs\\xbc5JE\\xabp\\x9b\\x85J60;Z\\x8a\\x8a\\x8a\\x84\\xa8\\xd6b\\xb1\\xb0\\xff0KWL\\x82 \\x06\\r\\x1at\\xe6\\xcc\\x99\\x96\\x96\\xa9\\x13\\x12\\x12\\xb6m\\xdb\\xb6m\\xdb6\\x95J\\x85\\xd0\\xb5\\xe5\\xd3O?\\xfd\\xfb\\xdf\\xff\\x8e\\xaa6\\x06d\\xfb\\x0c\\xe4\\x16\\xc6W\"qb\\x84\\xe6\\xc4\\x89\\x13BT\\xfb\\xc3\\x0f?\\xb0\\xff0\\x9b\\x99\\xf0\\xb0a\\xc3jkk/^\\xbc\\xc8f\\x97\\x08m\\xb0\\xb3\\xdd\\xbbw#\\xac\\x8d\\x01\\x99\\xe4Nj\\x82\\xcb\\xe5\\xe2\\xf64;u\\xea\\xd4\\xa8Q\\xa3\\x90\\xdb\\x83\\x97\\x8b\\x17/\\xbe\\xf6\\xdak:\\x9d.11\\xd1h4:\\x1c\\x8e\\xc5\\x8b\\x17\\x0b\\x11\\r@\\xa7\\xd3\\xd5\\xd5\\xd5\\xb1\\\\O\\x8e\\x89\\x89\\xc9\\xcf\\xcfg\\xf8\\xc0\\x0b/\\xbc\\xf0\\xc1\\x07\\x1fxd\\x00\\xc2\\xe3l\\xe1\\xe1\\xe1%%%\\xa8jcB\\xcc\\x038\\xa2\\xc1\\xf9-\\xff\\xc4\\x89\\x13\\xb8mGOtt4\\xda{\\x86\\x81\\x89\\x13\\'6\\xf6\\x90r\\x0bI\\x92\\x1b6l`\\xae\\'\"\"\\x82CO\\x11vD\\xa9T\\xb6\\xda\\x11$\\xc8\\xf3\\xb5\\x87\\xf3\\xb9GY\\xee\\x07\\xde\\xbd{W\\xb4\\xb6\\x8e\\x1c9\\x12\\x19\\x19\\xf9\\xe6\\x9bo\\xce\\x9c9388\\xb8\\xb6\\xb6\\x96\\xa2\\xa8\\xda\\xdaZ\\xb3\\xd9\\\\\\\\\\\\\\x9c\\x93\\x93s\\xf8\\xf0\\xe1s\\xe7\\xce\\xb5\\x9a\\xc4\\xf7\\xa7\\x9f~\\x12\\xc7\\xe0\\x96 I\\xb2\\xb6\\xb6V\\xa0\\xa3\\x0b\\xbfC\\x04\\x95\\x8b\\xcf\\xb4i\\xd3\\xb8\\x8d\\xc6\\xde\\xbd{q\\xdb\\x8e\\x9eg\\x9ey\\xc6\\xeb\\xd2!r\\xeb)Z\\xb7\\xfd\\x82\\x82\\x02\\xb4\\x17\\xc2-\\xf2\\\\x\\xe0\\x1cv\\x0eI\\xe4I\\xa9\\xf1\\xc9\\'\\x9f\\xdc\\xb8q\\xa3{\\xf7\\xee^\\xa7COA\\xab@q\\x82\\x17\\xcaP\\x81N\\xa7\\xf3\\xf6\\xed\\xdb\\xdc\\xcaz\\xb4\\x9e\\xeeE\\xf4\\xec\\xd93##\\xe3\\xca\\x95+>>>\\xb8m\\xe1\\x05EQQQQj\\xb5z\\xcf\\x9e=\\xcd\\xff\\x8a\\xb6w_}\\xf5\\x15\\xc2\\xdaZB\\x86\\n\\xe4\\x93d\\xab\\xac\\xac\\x0c\\xa1%\\x92\\x82 \\x88>}\\xfa\\x9c:u\\n\\xb7!\\xbcx\\xf9\\xe5\\x97\\xef\\xde\\xbd\\xebr\\xb9\\xdc\\xe6\\xbe\\xd5\\xeb\\xf5\\x08\\xdb:p\\xe0\\x00\\xc2\\xdaZB\\x86\\n\\xe4\\xb3\\xf0\\x90\\x95\\x95\\x85\\xd0\\x12\\t\\xd2\\xaf_?\\xdc&\\xf0\\xe2\\xeb\\xaf\\xbfn\\xf8\\x7f\\xf34\\x0fh\\x9d\\xcb\\xc4\\t\\xdf,C\\x05\\xe6\\xe5\\xe5q.[]]\\x8d\\xce\\x10)\\xc2\\xed\\xa8\\x90th\\x9c\\xc3p\\xd5\\xaaUM\\xfe\\xea\\x8d\\xcee2T`ff&\\xe7\\xb2|\\xd4\\xeb\\x15|\\xfc\\xf1\\xc7\\xb8M@Fnnn\\x93\\xdf w\\xb0\\x16!\\x80\\xaf\\x0c\\x15\\xe8\\xa9\\x8fLc\\xb2\\xb2\\xb2D\\x0eR &\\x14Em\\xdd\\xba\\x15\\xb7\\x15\\xadc0\\x18\\xd8|\\xac\\xb8\\xb8\\x98\\xfa\\xfd.<\\xf2u&\\x11\\xbe\\x91e\\xa8@>\\xefr\\x1a\\x8dF\\x96\\x9b\\xf24\\xa7O\\x9f\\xc6m\\x02+Xf\\xd2l\\x1ed\\x1e\\xb9\\x02\\xb3\\xb3\\xb3\\xd1V\\xd8\\x1c\\x19*\\xf0\\xce\\x9d;\\x9c\\xcb\\xda\\xedv,)\\xac\\xc4a\\xed\\xda\\xb5\\xb8M`\\xc5\\xd0\\xa1C[\\xfaS\\x13\\x8d5\\x99\\xb0 W`NN\\x0e\\xda\\n\\x9b#C\\x05\\xf2\\\\M\\x91\\xab\\x02I\\x92\\x14\\xc8%\\x029\\x0c\\xfe~M&\\xa8Mb\\x1a W\\xe0\\xcd\\x9b7\\xd1V\\xd8\\x1c\\xb9)\\xd0l6\\xf3|{\\xfe\\xfa\\xeb\\xaf)9\\xfa\\x8b\\xac\\\\\\xb9\\x12{f(6\\x10\\x041`\\xc0\\x80\\x96\\xfe\\x1a\\x14\\x14\\xd4\\xf8\\xc7&\\nD\\xbe\\x12\\x03\\n\\xf4\\x18>SP\\x9a\\xd4\\xd4T\\xf9)\\xd0\\xe1p\\xf0\\x8c\\xe7/\\x0e\\x04A0\\xbb,\\xf9\\xfb\\xfb7\\xfe\\xb1\\xc9\\x95B\\xbb#\\xaf\\x80\\xf7@\\x0e\\xf0\\xf7\\x030\\x9b\\xcd\\xa2E(\\x10\\x8d\\xfd\\xfb\\xf7\\x0b\\x14\\x9d\\t!\\x11\\x11\\x11\\xd5\\xd5\\xd5F\\xa3\\x91\\xe13MN~6Q \\xf2U4X\\x0b\\xf5\\x18\\xfe\\xcf@\\x85B1u\\xeaT\\xfe\\x95H\\x07\\x92$%\\x9b\\x9b^\\xadV\\xc7\\xc7\\xc7/_\\xbe\\xbc\\xbc\\xbc\\xbc\\xa8\\xa8\\xa8Uo\\xa0&\\xd3N\\xa1\\x9f\\x81\"\\xc4\\xce\\x93\\x9b\\x7f \\xe73\\xd9\\x8dIII\\xa9\\xac\\xac\\x14\"\\xb04\\x16\\x16-Z$\\xda\\x1b\\xa0\\x8f\\x8f\\xcf\\xca\\x95+\\xa7L\\x99\\x12\\x19\\x19\\xa9V\\xab\\xe9;\\xb8q\\xebJ\\xa5\\x92\\xb8\\x87\\xc2s\\xaf\\xf6\\x9a\\x9a\\x9a\\xc6?6Q\\xa07\\x86<\\x97\\x9b\\x02\\x9b\\x9f\\x93\\xe0\\x80\\xd3\\xe9|\\xfd\\xf5\\xd7\\xb7l\\xd9\\xc2\\xbf*\\xecdgg\\xb7\\xea\\x90\\x8e\\x8a\\xde\\xbd{\\xa7\\xa6\\xa66\\x8e\\x0f\\x82<\\xf2\\x15\\xf3\\xb4\\xd0\\x1b\\xf7r\\xe56\\x0bE\\xb5\\x81\\xf3\\xf1\\xc7\\x1f_\\xb8p\\x01IU\\x8a{{\\xc7\\xe2\\x9f\\xb6\\xb1X,\\xdd\\xbbw\\x17\\xa7-\\xbd^\\x7f\\xf9\\xf2e\\xa1\\x83\\xcd1\\x9f\\x96\\xf6F\\xdf+\\xb9)\\x10\\xd5\\xab3EQ\\xd3\\xa6M\\xe3\\xa9\\xe7\\xa2\\xa2\\xa2q\\xe3\\xc6\\x85\\x84\\x84\\xa8T*\\xadV\\xab\\xd1h\\xe8\\xd9\\x97\\xaf\\xaf\\xef\\xdc\\xb9s\\x85\\x16dyyyTT\\x94h\\xf3\\xcf\\x7f\\xfd\\xeb_BG[]\\xb6lY\\x93\\xdf4\\x99\\x94\\n1\\x0b\\x15\\xdceT\\x04?|1A\\xeb\\x06\\xae\\xd3\\xe9\\x8e\\x1d;Fgl\\xf7\\xc8\\x0c\\xa7\\xd3\\xb9p\\xe1B\\xe6\\xca\\xa3\\xa2\\xa2,\\x16\\x8b\\x10\\x83@\\x92dfffhh(\\xc2\\xa1h\\x95+W\\xae\\x08\\xd1\\x97\\x06\\x8e\\x1d;\\xd6\\xbc\\xd1\\xfc\\xfc\\xfc\\xc6\\x9f\\xd9\\xbe};\\xf2~]\\xbdzU\\xd0~\\xc9M\\x81\\xc8/\\x80B\\xa1P\\xa9T\\xd1\\xd1\\xd1\\x9f\\x7f\\xfey]]\\x1d\\x1b\\x1b\\xf2\\xf3\\xf3Y~\\x19\\xbf\\xf8\\xe2\\x8b\\xc8G\\xc0n\\xb7\\xbf\\xf6\\xdakB\\x8c\\x033\\xdf\\x7f\\xff=\\xf2\\xbe\\xd0l\\xdd\\xba\\xb5\\xa5\\xf0\\x13\\x95\\x95\\x95\\x8d?\\xe9i\\xea\\x186\\xec\\xd9\\xb3G\\xa0~\\xd1\\xc8m%F\\x08\\\\.Waa\\xe1\\x93O>I\\xff\\xe8\\xe7\\xe7\\x17\\x12\\x12\\xd2\\xae]\\xbb\\xd0\\xd0P\\x83\\xc1\\xa0\\xd3\\xe9\\xa2\\xa2\\xa2\\x12\\x12\\x12bcc\\xcb\\xcb\\xcb\\xdf}\\xf7]\\xf6q\\xbe6n\\xdc\\x18\\x1b\\x1b\\xbb`\\xc1\\x02\\x9e\\x16R\\x14\\xe5r\\xb9\\xd2\\xd3\\xd3\\x97.]z\\xf4\\xe8Q,\\xee\\x1d\\xcf>\\xfb\\xec\\xca\\x95+\\x93\\x92\\x92\\xf4z=A\\x10J\\xa5R\\xadV\\xabT*z\\xe2MQ\\x94\\xd3\\xe9t:\\x9dv\\xbb\\xddf\\xb3\\xd9l6\\x8b\\xc5b\\xb5Z\\xeb\\xea\\xea\\xccf\\xb3\\xc9d\\xaa\\xac\\xac\\xac\\xae\\xae\\xae\\xae\\xae6\\x99L\\xf4\\x7f\\xee\\xdc\\xb9\\x93\\x9d\\x9dm\\xb3\\xd9\\x18&\\xd2M\\xb6\\x1f\\x84\\x98\\x85\"Y]g@n\\x11{\\xbd1\\x18\\x91\\xaf\\xaf\\xef\\x94)S|||\\xe8wE\\xadV\\xab\\xd3\\xe9\\xd4j5A\\x10$I:\\x9dN\\x9b\\xcdf\\xb7\\xdb-\\x16\\x8b\\xd9l\\xae\\xa9\\xa9\\xa9\\xa9\\xa9\\xa9\\xac\\xac4\\x9b\\xcdV\\xab\\xb5\\xa2\\xa2\\x02\\xb7\\xf9\\xac\\xa0E\\x88\\xb6\\xce\\xe8\\xe8\\xe8\\x82\\x82\\x82\\xc6\\xbf9x\\xf0\\xe0#\\x8f<\\x82\\xb6\\x95\\x97^zi\\xfd\\xfa\\xf5h\\xebl\\x8c\\xac\\x9e\\x81^\\x1a\\xe5\\xc5b\\xb1H$\\x81\\xb3p\\x08\\xf1E\\x7f\\xfe\\xfcy\\xe4u6G\\xe8g\\xa0\\xac\\xd6B\\xc5L\\xfb\\x06\\xe0\\xe5\\xec\\xd9\\xb3\\xcdS5\\t1#\\x10(\\xcbM\\x03\\xb2z\\x06~\\xf7\\xddw\\xb8M\\x00<\\x80~ehxWT*\\x95*\\x95\\x8a~\\x81T\\xab\\xd5Z\\xad\\x96\\x9e\\x90\\xfb\\xf9\\xf9\\xf9\\xfb\\xfb\\xb7k\\xd7\\xae{\\xf7\\xee\\xfd\\xfb\\xf7\\x1f=z\\xb4\\xbf\\xbf\\xbf\\xdb\\x1c;|\\x02\\x94\\xb4\\x84\\xd0\\xf1\\x9ad\\xa5@\\xc8\\xda))h]\\x85\\x86\\x86\\xb6o\\xdf\\xdeh4v\\xec\\xd81&&&**\\xcah4\\x86\\x87\\x87\\x87\\x87\\x87\\x87\\x84\\x84\\xa0}o\\xff\\xe6\\x9bo\\x10\\xd6Fc\\xb3\\xd9\\x90\\xd7\\xd9\\x18Y)P\\xf6q\\x96$\\x8eR\\xa9\\x1c8p\\xe0\\xec\\xd9\\xb3\\x87\\x0f\\x1f\\xde\\xae];??\\xbf\\x86%%q\\x0c\\xb8~\\xfd:\\xf2:\\xedv;\\xf2:\\x1b#\\x1f\\x05\\xde\\xbd{W\\x961\\xe7\\xbd\\x88\\xf4\\xf4\\xf4\\x9e={\\xe2j\\xfd\\xe0\\xc1\\x83BT+\\xb4\\x02e\\xb2\\x1bA\\x92\\xa47\\x9e\\xca\\x95\\x19UUUM|\\xd8E\\x83\\xa2\\xa8\\x80\\x80\\x80\\xba\\xba:\\xe45GFF\"qyk\\t9\\xac\\x85Z,\\x96\\x8e\\x1d;\\xe2\\xb6\\x02P\\xbc\\xf4\\xd2KX\\xbe\\xd0+**:w\\xee,\\x84\\xfc\\x14\"\\x84\\x0c\\x15\\xf4\\xc4\\x8d\\xa0\\x94\\x97\\x97\\xef\\xdd\\xbbw\\xd0\\xa0A\\xc2\\x0e\\x10\\xc0\\x1a\\xb5Z}\\xf2\\xe4IA\\x13_\\xda\\xedv\\x93\\xc9TTTt\\xf3\\xe6\\xcd\\xd4\\xd4\\xd4\\xcf>\\xfbl\\xd2\\xa4I\\x82\\x9e\\x08\\x0f\\x0e\\x0e\\x16\\xae;\\x14Ey\\xcd,\\xb4\\xbe\\xbe\\xfe\\xce\\x9d;\\x9b6m\\xda\\xb9s\\'\\xbc\\xefI\\x99)S\\xa6\\xac_\\xbf>::\\x9a\\xdef`\\xf8$}\\xef\\xd17\\xa2\\xcb\\xe5r\\xb9\\\\\\x0e\\x87\\xc3f\\xb3\\xd5\\xd7\\xd7[,\\x96\\x8a\\x8a\\x8a\\xf2\\xf2\\xf2\\x82\\x82\\x82\\xfc\\xfc\\xfc[\\xb7negg\\xe7\\xe6\\xe6\\x9aL&\\xb1\\xfa\\xf1\\x1b\\x01\\x01\\x01M<0\\xd0\\xe2\\x05\\n\\xdc\\xb8q\\xe3\\xf2\\xe5\\xcb\\xbd\\xf4\\xbcK\\x9b%000888...88\\xb8\\xaa\\xaa\\x8a>\\xde\\xd9 0\\xfa8hmm\\xad\\x08a x\\xe2\\xeb\\xeb+\\xd0\\xfc\\x96F\\xd2\\nt8\\x1cF\\xa3\\xb1\\xa4\\xa4\\x04\\xb7!@\\xdbE\\xab\\xd5\\n\\xba%(\\xdd\\xdd\\x08\\x92$\\xf5z\\xbd\\xf4\\xbf#\\x01\\x80\\x0f\\xd2]\\x0b}\\xeb\\xad\\xb7@~\\x00v\\x84\\xbe\\t\\xa5;\\x0b\\xf5F?#@~\\xa8T*A\\xfd-%\\xfa\\x0c,..\\xc6m\\x02\\x00(\\x14\\xc2\\xf8U5F\\xa2\\nl\\x9e\\xa0\\x18\\x00\\xb0 t\\xa8+\\x89\\xae\\xc4ddd\\xe06\\xa1)J\\xa5\\x92v\\x96\\xa1O\\x1b+\\x95J\\x8dF\\xa3\\xd1h\\x1a\\xbb\\xc9\\xd0.\\xed\\x8d7\\xb5\\xe8\\t\\x0c\\xfd\\xb1&\\xf1\\x1a\\xf0u\\x05\\x90\\x10\\x12U \\x9b\\x0cd!!!\\x06\\x83A\\xadV\\xfb\\xfb\\xfb\\xfb\\xfa\\xfa\\xea\\xf5\\xfa\\x80\\x80\\x80\\xc0\\xc0@\\x83\\xc1\\xd0\\xf0\\x1b\\x7f\\x7f\\x7f\\x83\\xc1\\x10\\x18\\x18\\x18\\x10\\x10\\xe0\\xff{\\x84\\xefD+P\\x14e2\\x99jjj,\\x16\\x0b\\x1d4E\\xa1P\\xd0\\xa2-++\\xab\\xae\\xae.///)))--\\xbds\\xe7Nee%\\xbd\\x9f\\xe6p8\\x94J\\xa5\\xc3\\xe1\\xb0\\xdb\\xedv\\xbb\\x9d\\xde\\xc8V\\xdc\\xdb\\xd7n\\x10\\xb9d_\\xef\\x81&HT\\x81n\\xfd/\\x1bHJJ:~\\xfcx@@\\x80h\\xf6\\x08\\x01A\\x10AAA\\xfc\\x8f27<x\\x1d\\x0e\\x87\\xcb\\xe5j\\xf8\\xd1n\\xb7\\xdf\\xbd{7\\'\\'\\xe7\\xfb\\xef\\xbf?z\\xf4(l\\xabr\\x83\\xf9V\\xe4\\x8fD\\xd7B\\xe7\\xcf\\x9f\\xff\\xe1\\x87\\x1f\\xba\\xfd\\x93\\xd0g\\xd5eL]]\\xdd\\xb3\\xcf>\\xfb\\xf9\\xe7\\x9f\\x8b\\xd6\\xa2\\x8f\\x8f\\x0f\\xed\\xe1\\xee\\xef\\xef\\xaf\\xd7\\xeb\\xfd\\xfc\\xfc\\xfc\\xfc\\xfc\\xb4Z\\xad\\xaf\\xafoPP\\x10\\xfd\\x1b\\x83\\xc1@OX\\xe8Y\\xbd\\xaf\\xaf\\xaf\\x8f\\x8f\\x8fJ\\xa5R\\xa9T:\\x9d\\x8e\\x9e\\xf9\\xeb\\xf5z___???\\xfah\\xa8\\xddnw:\\x9d\\xf4\\xadK{\\xd6\\xd3\\x11\\xae\\xae^\\xbd\\xfa\\xd1G\\x1f\\xed\\xdd\\xbb\\x17\\xa1c\\xbb\\xd0k\\xa1\\x12U\\xe0\\xdf\\xfe\\xf6\\xb7M\\x9b6\\xb9\\xfd\\xd3\\x89\\x13\\'\\xc6\\x8c\\x19#\\xb2=\\xb2\\xa1\\xa6\\xa6\\xa6I\\x1aZ\\x9e\\xa8T\\xaa\\xd1\\xa3G\\x8f\\x1c9\\xb2G\\x8f\\x1e\\x11\\x11\\x11\\xa1\\xa1\\xa1\\x81\\x81\\x81>>>\\xb4\\x9cZ=\\x1a*\\x04V\\xabu\\xfc\\xf8\\xf1\\xa8\\x82\\x06\\t\\xad@\\x89\\xceB\\x19\\x12\\x00\\xc4\\xc6\\xc6\\x8ai\\x89\\x9c\\xc8\\xcb\\xcbC\\xeeJr\\xfd\\xfau\\x8c^\\xb9n\\xd1\\xeb\\xf5g\\xce\\x9cY\\xbbv\\xed\\xe2\\xc5\\x8b\\xf9?`\\x84\\xf6;\\x95\\xa8\\x02\\x19&\\xdf-\\x85O\\x06\\x9a@Q\\x94\\xd9l\\xce\\xcb\\xcb\\xcb\\xc8\\xc88p\\xe0\\xc0\\xde\\xbd{\\x91\\x9fo\\xdc\\xb0a\\x83\\xd4\\xe4G\\xa3T*_}\\xf5\\xd5\\xf6\\xed\\xdb\\xcf\\x9e=\\x9b\\xa7\\x08\\x85~\\x0f\\x94\\xa8\\x02\\x19d&t\\xe4\\x1c\\x19\\xe0r\\xb9\\xfa\\xf6\\xed\\x9b\\x9e\\x9e.h+*\\x95j\\xce\\x9c9\\x826\\xc1\\x93Y\\xb3f\\x95\\x95\\x95-Z\\xb4\\x88O%B?\\x03%\\xba#\\xcf\\x90\\x0c\\x15\\x9c\\x03[e\\xf3\\xe6\\xcdB\\xcbO\\xa1P\\x04\\x07\\x07#\\xcfY\\x8b\\x9c\\x05\\x0b\\x16<\\xf4\\xd0C|j\\x10\\xfa\\x19\\xe8}\\n\\xf4\\x968\\xed\\x18Y\\xb7n\\x9d\\x08\\xad\\xd0\\xc7\\x12Dh\\x88\\x0f*\\x95j\\xdf\\xbe}|\\xde\\\\\\x84\\xce\\x88(\\xd1\\x11dH\\xc1\\xf1\\x9f\\xff\\xfcGLK\\xbc\\x0e\\x97\\xcb\\x95\\x9f\\x9f/BC\\xf5\\xf5\\xf5^\\xe1\\xbc\\x12\\x18\\x18\\xf8\\x8f\\x7f\\xfc\\x83sq\\x8dF\\x83\\xd0\\x98\\xe6HT\\x81\\x0c\\xcf\\xc0\\xe4\\xe4dq\\xbe\\xe3\\xbd\\x14\\xa1c<7`2\\x99\\n\\x0b\\x0b\\xc5i\\x8b\\x0f\\x04A,^\\xbc\\x98s\\xf16\\xfa\\x0cd~\\xc1X\\xb4hQ@@\\xc0\\xf2\\xe5\\xcbkkkE3\\xc9[\\x10\\xfa;\\xbb\\x01\\x8a\\xa2\\x1e\\x7f\\xfcq\\xaf8\\xe0\\xaaV\\xab\\'N\\x9c\\xc8\\xad\\xac\\xd0+1\\x12\\xdd\\x91?v\\xec\\xd8\\xf8\\xf1\\xe3Y~8<<|\\xe2\\xc4\\x89#F\\x8c\\xe8\\xd6\\xad[``\\xa0\\x9f\\x9f\\x9f\\x8f\\x8f\\x8f\\x8f\\x8f\\x0f=\\xfb\\xa7\\xbf\\xc3\\xc4\\x8c\\xdc\\x8c\\x9d\\xa0\\xa0 \\xd1\"\\x1a=\\xfc\\xf0\\xc3_}\\xf5\\x95\\xf4\\xb7\\x88\\x0e\\x1c80e\\xca\\x14\\x0e\\x05;w\\xee\\x9c\\x93\\x93#\\xe0\\xcd#h$6\\xce\\x08\\xb4\\x94G\\x10\\x04}\\xee)&&\\xe6\\xc0\\x81\\x03\\xb8{)\\x14F\\xa3Q\\x88\\xd1k\\t\\x1f\\x1f\\x9f\\xd5\\xabW\\x0b\\x1a\\xa4\\x90?l\\xce\\xfa\\xbb%..N\\xd0\\xaeI\\xf4\\x19HQ\\x948\\xebl\\xa3G\\x8f\\xfe\\xe6\\x9boD\\x9b\\xb9\\x89\\xc3\\xcf?\\xff<`\\xc0\\x00\\x91\\x1b\\xd5h4]\\xbat\\x994i\\xd2\\xc8\\x91#\\x93\\x92\\x92\\x0c\\x06\\x83\\xdb\\xe7\\x06}\\xdb\\x91$\\xe9r\\xb9\\xecv\\xbb\\xd5j5\\x99L\\xe5\\xf7(--\\xad\\xad\\xad5\\x99L\\xb5\\xb5\\xb5\\x01\\x01\\x01={\\xf6\\xec\\xdd\\xbbwll,\\xff\\x9d\\x0f\\xcewT\\xf7\\xee\\xdd322\\xda\\xdc3\\x90\\xa2(!2\\x12\\xb7DFF\\x06\\xee\\xee\\xa2\\xc4\\xe5r\\xf1Y\\xfdC\\x05\\x9dx\\x8c\\xce\\xdf\\xc2\\xff\\xfb4::z\\xd9\\xb2e\\xb7n\\xddr\\xb9\\\\\\xdc\\x86\\x85[\\xbb\\t\\t\\th\\xafNS\\xab\\x04\\xad\\x9d\\x0fG\\x8e\\x1c\\xe1y\\xcd\\xd8\\xd3\\xe0S\\'\\x1bH\\x92\\xdc\\xbe}\\xbbh\\x03(&\\xf1\\xf1\\xf17o\\xde\\xe40&\\xdc\\x9a\\x1b2d\\x08\\xf2\\xab\\xf3;\\xab\\x04\\xad\\x9d\\'\\x11\\x11\\x11h/\\x1e\\x03K\\x96,\\xc1\\xdd]\\xc4\\x90$\\x99\\x92\\x92\"\\xfdMs\\x0e(\\x95\\xcaU\\xabVy: \\xdc\\xdc\\xb2G\\x8f\\x1e-\\xc4\\xd5i@\\xa2\\xef\\x81\\r\\xc4\\xc7\\xc7\\xdf\\xb8qC\\x84\\x86\\x06\\x0c\\x18\\xf0\\xd3O?\\x89\\xd0Ps\\\\.\\xd7\\xaf\\xbf\\xfe\\xfa\\xc3\\x0f?\\\\\\xbf~\\xbd\\xbe\\xbe^\\xaf\\xd7\\x87\\x84\\x84DGG\\xf7\\xef\\xdf?66\\xb6\\xa5\\x17*\\x96\\x94\\x96\\x96v\\xea\\xd4I\\xb4MB1\\xd9\\xbau\\xeb\\xbcy\\xf3\\xd8\\x0f\\xce\\xacY\\xb3>\\xfb\\xec3O[\\x990a\\x82\\xb0\\xd31A\\xf5\\xcd\\x1f\\x92$\\xf7\\xee\\xdd+`\\xff\\xef\\xd1\\xabW/,\\x1d\\\\\\xb0`\\x01C\\xe2\\x11\\x82 \\xe6\\xcf\\x9f_YY\\xc9\\xa7\\x89\\xa3G\\x8f\\x8a0\\x80\\xe2\\xa3\\xd1h<\\x1a\\x99\\x96<N\\x99\\x990a\\x02\\x9f\\xc1o\\x15\\xa9+\\xb0\\x81\\xb4\\xb4\\xb4%K\\x96\\x08\\x97\\xa5l\\xec\\xd8\\xb1\"\\xf7\\xe8\\xf6\\xed\\xdb,CT\\x84\\x86\\x86\\xde\\xbau\\x8bO[]\\xbbv\\x15h\\xdc\\xf0\\xf2\\xe4\\x93O\\xb2\\x1f\\x84/\\xbf\\xfc\\x92C\\x13\\xa3F\\x8d\\xe23\\xf2\\xad\\xe25\\ntKyy\\xf9\\xd5\\xabW\\x0f\\x1e<\\xf8\\xc6\\x1bo\\xf4\\xe9\\xd3\\x87\\xcf\\xb5\\x9c6m\\x9a\\x98\\x96{:\\xb56\\x1a\\x8dt\\\\\\x06n\\xec\\xdc\\xb9\\x93\\xcf\\xe0H\\x16\\xb5Zm\\xb3\\xd9X\\x0e\\xc2\\x8e\\x1d;841t\\xe8P\\xce\\xc3\\xce\\x06\\xef~M\\x0f\\r\\r\\xed\\xdd\\xbb\\xf7\\xe4\\xc9\\x93W\\xacX\\x91\\x96\\x96\\xd6\\xaf_?\\xceU\\xf9\\xf9\\xf9!4\\x8c\\x19\\x8a\\xa2z\\xf5\\xea\\xe5Q\\x91\\xc2\\xc2B>\\x11\\x1c\\xe5\\x9ae\\xd1\\xe9t\\xb2?\\xbcQYY\\xc9\\xa1\\x89\\xb0\\xb00\\x0e\\xa5\\xd8\\xe3\\xdd\\nl\\x82\\xb7\\x04\\xb0\\x18=z\\xb4\\xa7E(\\x8a\\xe2\\xf3>,\\x85\\xe8\\x8c\\x02\\x91\\x92\\x92\\xc2\\xf2\\x93\\xdc\\x82\\xeb\\x05\\x07\\x07s(\\xc5\\x1eY)\\xb0s\\xe7\\xce\\x9c\\xcb\\x8av\\x00\\xc0\\xe9t\\x9e9s\\x86C\\xc1\\xdc\\xdc\\\\\\xce\\x8d\\n\\x9a\\x83\\x92?J\\xa5\\xd2`0\\x84\\x87\\x87\\x1b\\x8dF\\xa3\\xd1\\x18\\x1a\\x1a\\xca\\xbe\\xec\\xb9s\\xe7X~\\x92\\x9b\\x97\\x03C\\xc8\"$H4J\\x057bbbp\\x9b\\xd0:\\xdc\\xce\\x07+\\xf8%4\\xcf\\xcb\\xcb\\xe3\\\\\\x16\\x15\\x04A\\xd0a\\x05\\x13\\x13\\x13G\\x8c\\x181x\\xf0\\xe0\\xe8\\xe8h:bj```\\x93M\\x05\\xa7\\xd3Y__\\xbfg\\xcf\\x9eg\\x9ey\\x869n<\\xfb\\xae]\\xbcx\\x91\\x83\\xd9m4j=7\\xf8(Ph\\'\\x94\\x06N\\x9e<\\xc9\\xad \\x1fw\\xd8\\x9b7or.\\xeb)J\\xa52222<<\\xbcK\\x97.\\x03\\x07\\x0eLLLl\\xdf\\xbe}dd$=\\x13&\\x08\\x82\\xcd!\\x01:\\x14\\xfa\\xd3O?=u\\xea\\xd4\\x0e\\x1d:0d\\xb1e\\x1f\\xb5\\x84\\xdb\\xc6\\xb2\\xa0\\tt\\x152S \\x9f34BO6h\\xaa\\xab\\xab\\xedv;\\xb7\\xb2\\x14\\x8f\\xb3\\x13\\x82f\\xc2\\xf1\\xf5\\xf5\\x1d1b\\xc4\\x84\\t\\x13\\x86\\x0f\\x1f\\x1e\\x1a\\x1a\\x1a\\x1e\\x1e\\x8e\\xf0\\xa4{@@@ZZZ\\\\\\\\\\\\K\\x1f`?\\xc1\\x8e\\x8c\\x8c\\xe4`\\x80\\xd0\\xb1pd\\xa5@nC,&|\\xe2Gp\\xfe2v8\\x1c\\xdf~\\xfb-\\xe7v\\x19 \\x08\\xe2\\xd0\\xa1C\\x9c\\x9d_Y\\xc2\\xbc\\x99\\xc9\\xc6\\xed\\x88\\xa2(\\x87\\xc3\\xc1\\xedk\\xa8}\\xfb\\xf6\\x1cJ\\xb1GV+1|\\x9e\\x81B\\x07#\\xa0)++\\xe3\\\\6++\\x8b[\\xc1W^y\\x85\\xcf\\xf3\\x93\\x01\\x11\\xe4G\\xc3p\\x12\\xa3\\xd5\\x15N\\x8a\\xa2\\xc6\\x8f\\x1f\\x1f\\x14\\x14D\\xe7\\xc6\\xf1\\x14\\xa1\\xb7\\xa9d\\xf5\\x0c\\xe4\\xf3.\\'\\xce\\tf>\\xe9Sn\\xde\\xbc\\xe9t:=\\xfd\\xa6(..\\xe6v\\x1a\\xabU\\xfc\\xfd\\xfdG\\x8d\\x1a%D\\xcd\\xcd1\\x1a\\x8d\\xb7o\\xdfv\\xfb\\'\\xe6\\'$EQ\\t\\t\\t|\\x8e\\x16\\x0b\\x1d\\x86CV\\xcf@>p~=\\xf3\\x08\\x9e\\xeb=\\x1e\\xe5B\\xa0(*777**J\\xa0\\xd5\\xbc\\x81\\x03\\x07\"yy\\xa6\\xa7\\x88\\r\\x99X\\xdc\\xc2\\xb0\\xdc\\xc2\\x1c\\x10 77\\x97\\xe7\\xc9\\xfe6\\x1a/T\\xae\\xf0\\xf4\\xb7\\x1a?~\\xfc\\xb1c\\xc7\\x98?CQTYYYZZZRRR\\x97.]\\x84[L\\xbft\\xe9\\x12\\xfbU\\x10\\x92$\\xedv\\xbb\\xc5b\\xa9\\xab\\xab3\\x99L\\xe9\\xe9\\xe9\\xeb\\xd6\\xad\\x1b3f\\xcc\\xb0a\\xc3\\xa2\\xa2\\xa2\\x82\\x82\\x82BBB&O\\x9e\\xdc\\xd2\\x8eKyyyK5w\\xe9\\xd2\\x85\\xa1\\xddV\\x87\\xabU\\x84^\\\\\\x90\\xd5,\\x94\\x0fB/:\\xd3\\xf0<\\xe2\\xe4p8\\xc6\\x8f\\x1f\\xaf\\xd1h\\xe8\\xb4^Z\\xad\\x96\\x0eH\\xa5\\xd3\\xe94\\x1a\\rA\\x10V\\xab\\xf5\\xce\\x9d;\\x9cc\\xa2x\\x84\\xd5j\\xa5\\xd30\\x85\\x86\\x86FFF\\x86\\x85\\x85\\xd1\\xa7\\x1a\\xea\\xea\\xeaJJJrrr\\xecv\\xbb\\x9f\\x9f\\x9fZ\\xad\\xb6Z\\xadl\\xa6\\x18G\\x8e\\x1c9p\\xe0\\xc0\\xb4i\\xd3\\x9a\\xff\\x89\\xe1\\xea0\\xc7\\xe3\\xe0\\xbc\\xf7\\xd3\\x80G\\xc7\\x038\\x00\\n\\x14\\x15$\\xbe\\x1dt\\xb2N\\xfe\\xf5\\xa0\\xa2\\xa2\\xa2\\xa2\\xa5@\\xe6\\x9e~\\xaf\\xed\\xdf\\xbf\\xbf\\xb9\\x02\\xeb\\xeb\\xeb\\x19\\xea\\xe9\\xd1\\xa3\\x07C\\x85\\xec\\xcf\\xac\\xb5\\x84\\xd0C\\r\\xb3\\xd0\\xdf\\xe0\\xb6P\\xe6)\\x06\\x83\\x81\\xc1\\x1b\\x10p{\\xb2w\\xcb\\x96--}^\\xa5Ru\\xeb\\xd6\\xad\\xa5\\xbf\\x92$YTT\\xc4\\xd3\\xa46\\x1a3[|\\x04Z\\xafo\\x8e4\\xd3}I\\x84I\\x93&5\\xff%C\\xc0\\x9b\\xe0\\xe0`\\x86\\xc5-$\\xd7\\x94\\xe10\\x00\\x12@\\x81\\xbf!\\xf4\\xf1\\xbf\\x06\\xce\\x9f?/NC^\\x87\\x8f\\x8fOs/*\\xa7\\xd3y\\xed\\xda\\xb5\\x96\\x8aL\\x9d:\\x95\\xa1\\xc2\\xabW\\xaf\\xf2\\xb7J\\xe8#\\xfb\\xa0\\xc0\\xdf\\x10g\\x16\\xaaP(\\xfc\\xfd\\xfd\\x85vx\\xf1R\\xee\\xbb\\xef\\xbe\\xe6\\xbf\\xa4\\x03I\\xb6T\\xe4\\xddw\\xdfe\\xa8\\x90\\x9b\\x0fJ\\x13\\x84^\\xa2\\x03\\x05\\xfe\\x868k\\xa14\\x9f~\\xfa\\xa9hmy\\x11\\xcf=\\xf7\\\\\\xf3_\\xfe\\xe5/\\x7fi\\xe9\\xf3*\\x95*$$\\x84\\xa1\\xc2\\xcc\\xccL\\xfeV\\x85\\x87\\x87\\xf3\\xaf\\x84\\x01X\\x0b\\xfd\\r1W\\x17\\xa7L\\x99\\xd2\\xb5k\\xd7\\xec\\xecl\\xd1Z\\x14\\x0e\\xadV\\xab\\xd1h\\x02\\x03\\x03CBB\\x86\\x0e\\x1d\\xda\\xb7o\\xdf\\xd0\\xd0\\xd0\\xb0\\xb0\\xb0\\xc8\\xc8\\xc8\\x98\\x98\\x18\\x9dNWZZz\\xe3\\xc6\\x8d\\xb4\\xb4\\xb4\\xa5K\\x97Z,\\x16\\x86\\xaaf\\xce\\x9c\\xd9\\xe47V\\xab\\x95\\xc1\\xa5(!!\\x81\\xf9\\x84\\xc3/\\xbf\\xfc\\xe2Q_\\xdc\"\\xb4\\x8f\\xbcw\\xc7\\x89i\\x0e\\xe7q\\x18>|\\xb8\\x98vZ\\xadVo\\x8f\\xe4\\xd9\\xb5k\\xd7\\xd4\\xd4\\xd4\\x9a\\x9a\\x1a\\x96A\\xac\\xab\\xaa\\xaa\\x18\\x12\\xbc<\\xfc\\xf0\\xc3\\xcd\\x8b0\\xe7\\x8a\\xfc\\xef\\x7f\\xff\\xcb\\xdc\\xe2\\x8f?\\xfe\\xc8\\xbf\\x9b\\xf5\\xf5\\xf5\\\\.0k\\xe4\\xa6@\\xce\\xef\\xcdIII\"\\x9bj6\\x9b\\xc5\\x0cN\\x83\\x96\\xd7^{\\x8dC\\xe4\\xa8\\xf7\\xde{\\xcfmmJ\\xa52\\'\\'\\xa7\\xf9\\xe7\\xbbw\\xef\\xde\\x92\\x01Z\\xad\\x96M\\x8bk\\xd7\\xae\\xe5\\xd3M\\x95J\\xc5\\'@\\x16\\x1b\\xe4\\xa6@\\xces\\x86\\xfe\\xfd\\xfbc1\\xd8\\x1bc(\\x8d\\x193\\x86[g[:\\xc56p\\xe0\\xc0\\xe6\\xf9\\x89\\xd2\\xd2\\xd2\\x18l`\\x1fD\\xd0\\xed!\\x1b\\x96\\x84\\x84\\x84p\\xeb){\\xe4\\xa6\\xc0N\\x9d:q\\x1bk\\\\\\x11{)\\x8a\\xaa\\xaa\\xaaZ\\xb3f\\r\\xcf}\\xa7\\xa1C\\x87\\xfe\\xf1\\x8f\\x7f\\x1c7n\\x1c\\xb7xD\\x1eq\\xea\\xd4)n=u\\x1b\\x95\\x9c \\x08\\x93\\xc9\\xd4\\xe4\\x93$I2\\xc7\\xdd\\xfa\\xee\\xbb\\xefX6\\xca\\'^x@@\\x00\\xb7\\x9e\\xb2Gn\\nd>\\xa3\\xc4@ll,n\\xdbQ\\x92\\x9a\\x9a\\xcay(Ze\\xc1\\x82\\x05\\x1cR\\xeaY\\xadV\\xb73\\x14\\xb7\\xb1\\x92\\x99\\xdd\\xb8\\xda\\xb5k\\xe7p8X\\xb6\\xcb\\xc7\\xbd\\xa8k\\xd7\\xae\\x9ev\\xd3S\\xe4\\xa6\\xc0\\xfe\\xfd\\xfbs\\x1b\\xeb\\xc8\\xc8H\\xdc\\xb6\\xa3\\xe7\\x9f\\xff\\xfc\\'\\xe7\\x9b\\x8f\\x99\\xb7\\xdf~\\xdbj\\xb5\\xb2\\xb7$;;\\xbb%\\xcf\\xc6\\xcc\\xcc\\xcc\\xe6\\x9f\\x7f\\xe6\\x99g\\x18Z\\x7f\\xef\\xbd\\xf7\\xd87\\xcd-L(\\xcd\\xb8q\\xe3\\xd87\\xb1\\xb8\\xbc\\xb8\\x00\\x00\\x0bMIDAT\\xc4\\r\\xb9)p\\xf8\\xf0\\xe1\\xdc\\xc6:88\\x18\\xb7\\xed\\x820k\\xd6,\\xce\\xf7\\x1f3AAA\\x1b6l(++cX\\xabp\\xb9\\\\\\xc5\\xc5\\xc5={\\xf6l)\\xbf\\xca\\x8b/\\xbe\\xd8\\xfcq\\xca\\xe0\\x8b\\xa4P(|||\\xccf3\\xfb\\x11\\xd8\\xb7o\\x1f\\xe7>\\xce\\x993\\x87\\xe3\\xb8\\xb3F\\xea\\xb9\\x93<e\\xc2\\x84\\t\\xdc\\x12\\x95h\\xb5Z\\x9b\\xcd\\x86\\xdc\\x1e)\\x10\\x10\\x10`6\\x9b\\x85\\xab\\x9f \\x88\\xe8\\xe8h\\xa3\\xd1\\xd8\\xb0?n6\\x9bkjj\\x8a\\x8b\\x8b\\xef\\xde\\xbd\\xcbPP\\xaf\\xd7\\x97\\x94\\x944\\x7fq\\x9d;w.\\xc3Y\\xd09s\\xe6l\\xdb\\xb6\\x8d}\\xca\\xa4\\xf0\\xf0p\\xce\\xc1AV\\xacX\\xf1\\xc6\\x1bop+\\xcb\\x16\\xa1%.2|\\x16\\xbe$\\x9e\\t\\x9d3o\\xbd\\xf5\\x16\\xc2\\x1b\\x06!\\xfb\\xf6\\xedkn\\xad\\xc9db(\\xa2V\\xab\\xedv;\\xfb\\xbe\\xf3\\x8c1\\xd1\\xea\\x96#\\x7f\\xbc{S\\xb89|V\\x02E;\\x9c-2K\\x96,\\xc1m\\x82\\x1b\\xfa\\xf5\\xeb\\xf7\\xc8#\\x8f4\\xff\\xfd\\xc2\\x85\\x0b\\x19JM\\x9f>\\xdd#w\\xa1\\xd2\\xd2R\\x8f-kDBB\\x02\\x9f\\xe2l\\x90\\x9b\\x02\\x03\\x03\\x039\\x97\\xa5\\xe45!o@h\\x0f7\\x0e\\x10\\x04\\xf1\\xe5\\x97_6\\x9fI\\xd6\\xd6\\xd6n\\xdb\\xb6\\x8d\\xa1 \\xf3Q\\xec\\xe6|\\xf3\\xcd7\\x1e\\x1b\\xd7\\x08\\x96\\xe9\\xe5\\xf8 7\\x05\\xd2q\\x13\\xb8!\\xd7g\\xa0\\x04\\xd9\\xb0a\\x83[\\xcf\\xdaW^y\\x85\\xa1\\xd4\\x9c9s<M\\r\\xc2!in\\x03\\x04A\\xf0\\xb9\\x9d\\xd8\"\\xf44WdV\\xaf^\\xcdy(<Z^\\xf7.\\x10\\xde0\\xfc\\xe9\\xde\\xbd\\xbb\\xdbW\\xee\\x96\\xe2\\x11\\xd2\\xa8T\\xaa\\xda\\xdaZ\\x8fz\\xcd3\\xfe]tt4\\xa2\\xe1gBn\\xcf@\\xe6\\x85lf\\xf8l\\x1c\\xb5Y\\x82\\x83\\x83#\"\"\\xd8gG\\xd3\\xe9t\\'O\\x9et\\xbb\\x929o\\xde<\\x86\\x82s\\xe7\\xce\\xf54\\x07\\x1b\\xb7T-\\r\\xf0\\x0cl\\xc7\\x16\\x11T.&|\\xcev}\\xf1\\xc5\\x17\\xb8\\xcd\\x17\\x04\\x9e\\xab\\x11nQ*\\x95\\x0b\\x16,\\xb8{\\xf7nC+G\\x8f\\x1e\\xed\\xdd\\xbbw\\xab\\x05?\\xfa\\xe8#\\xb7F2\\xe7\\x96\\xd1j\\xb5\\x15\\x15\\x15\\x1e\\xf5\\x9a$\\xc9!C\\x86\\xf0\\xe9\\xe3\\xe6\\xcd\\x9by\\x8d;;d\\xa5@\\x9eK\\xcf\\xb3g\\xcf\\xc6\\xdd\\x03A\\x10\"\\xde\\xde\\xb2e\\xcb\\x9a\\xcf$I\\x92d>h\\xfe\\xd0C\\x0f\\xb5\\xb4\\xe5\\xe3\\xd6A\\xbe\\x81\\xa5K\\x97z\\xdak\\x87\\xc3\\xc1~\\xcf\\xd0-YYY\\\\\\x86\\xdbC\\xe4\\xa3@\\x92$\\xa3\\xa3\\xa3\\xf9\\x8cxhh(\\xeeN\\xa0\\x87\\xf3Quf\\n\\n\\n\\xdc6\\xc7\\x10\\xaa\\x94 \\x88\\xd2\\xd2R\\xb7\\xa5\\xae\\\\\\xb9\\xc2\\xd0\\x96\\xbf\\xbf\\xbfG\\x87`h&L\\x98\\xc0\\xa7\\x83\\x04Aph\\x94\\x032Q I\\x92\\xcc\\x91[Y\\x82\\xbb\\x1f\\x88A\\xe2\\xa2\\xea\\x96;w\\xee\\xb8m\\xb1\\xa5|\\x9a\\x04A\\x9c>}\\xdam\\x11\\x87\\xc3\\xc1\\xbc\\xe8\\xbfj\\xd5*O;\\xce\\xff\\x95><<\\x9c\\xfd\\xe1o>\\xc8a%\\x86\\xa2\\xa8\\xe0\\xe0\\xe0\\xd4\\xd4T\\xdc\\x86H\\x0e\\xe6\\xa8\\x10|p\\x9b\\xd4\\xde\\xe9t>\\xfa\\xe8\\xa3n?\\xff\\xe0\\x83\\x0f\\x8e\\x1c9\\xd2\\xed\\x9f\\xb6l\\xd9\\xc2\\xf0\\xe4T\\xa9T\\x0b\\x16,\\xf0\\xc86\\x8a\\xa2^}\\xf5U\\x8f\\x8a4g\\xf8\\xf0\\xe1\\xe2\\xa4\\xd3\\xf2\\xfao\\xfdO>\\xf9\\x04\\xe1HY,\\x16\\xdc\\x1dB\\xc9\\xe9\\xd3\\xa7Q\\x8dL\\x13|}}\\xeb\\xea\\xea\\x1a\\xb7\\xe5t:\\x97-[\\xd6\\xd2\\xe7o\\xdd\\xba\\xe5\\xd6B\\xb3\\xd9\\xcc\\xfc\\xb6\\xf6\\xc4\\x13Ox\\xdak$\\t\\x83E[\\x96\\xf3b\\x05\\xe6\\xe7\\xe7#O\\x1c\\x7f\\xe9\\xd2%\\xdc\\xddB\\x89p\\nT(\\x14\\xbe\\xbe\\xbe\\xbbv\\xed\\xca\\xca\\xca\\xca\\xcc\\xccLNNfXJY\\xb8p\\xa1[\\xf3H\\x92\\x1c;v,s+\\xbbv\\xed\\xf2\\xb4\\xd7\\xcc\\xb9\\\\\\xd8\\xa0T*\\x9b;\\r\\x0b\\x84W*\\x90$\\xc9\\x97_~\\x99\\xe7(\\xbbe\\xdd\\xbau\\xb8;\\x87\\x12A\\x15\\xc8\\x1e\\xb7\\x0b0$I\\x1e9r\\xa4\\xd5\\xb2+W\\xaed\\xdf_\\x92$\\xe7\\xcf\\x9f\\xcf\\xdf\\xe0n\\xdd\\xba\\xa1\\xbb\\x08\\xad\\xe0\\x95\\n\\x14.\\x90xLL\\x0c\\xee\\xce\\xa1D\\n\\n\\x0c\\x0b\\x0bsk\\x1b\\xcb\\x80\\xd6\\xd1\\xd1\\xd1\\xec}V._\\xbe\\x8c\\xc4\\xe6%K\\x96\\xa0\\xbb\\x08\\xad\\xe0}\\n\\x14:\\xb4\\x11\\xee\\xfe\\xa1D\\n\\nT\\xa9T\\xdf~\\xfbmqq1\\x1d\\xf6\\x8f$I\\x92$\\xf7\\xec\\xd9\\xc3\\xfe\\xed\\x9d\\xa5G|NN\\x0e\\x92\\x8c\\xa2\\n\\x85\"==]\\xe0+\\xf3\\x7f\\xbc\\xec\\x86\\x13:\\xa5\\xb0B\\xa1\\xd8\\xbau+\\xee^\"\\xe3\\xe0\\xc1\\x83B\\x0f\\x97Gt\\xe9\\xd2\\xa5C\\x87\\x0e\\x1c\\n\\x0e\\x1d:\\xd4j\\xb5\\xb6\\xf40$I\\x92!\\xc9\\xae\\xa7\\x18\\x8dF1=E\\xe5\\xb0\\x1b\\x81\\x16O\\xfd_\\x00\\xf6\\xe4\\xe4\\xe4pK\\'v\\xe1\\xc2\\x05??\\xbf\\xf8\\xf8\\xf85k\\xd6\\xfc\\xf2\\xcb/f\\xb3\\xd9\\xe5r\\xd1\\x7f\\xaa\\xaf\\xaf\\x7f\\xe7\\x9dw\\x98\\xc3\\xd7{\\xc4_\\xff\\xfaW\\x9e\\x87i<\\xc2\\xfb\\xa2TDEE1\\xc7>\\xe0OQQQ\\xfb\\xf6\\xed\\x05mB\\x1c\\xf6\\xed\\xdb\\xf7\\xd8c\\x8f\\xe1\\xb6\\xc2\\x9b\\xd0j\\xb5EEE\\x08\\xf5\\xdc*\\xde\\xf7\\x0c\\x14h\\x15\\xb41\\x1d:t\\xf0\\xba/&\\xb7\\x88\\xb4\\xa7,#\\x86\\x0f\\x1f.rf+\\xefS\\xe0\\xa2E\\x8bDh%99Y\\x84V\\x84\\x86O\\xc4\\x80\\xb6\\xc9\\xea\\xd5\\xab\\xc5\\x9c\\x82*\\xbcq\\x16\\xaaP(\\x1e}\\xf4\\xd1\\xfd\\xfb\\xf7\\x0b\\xddJuu\\xb5\\x18.\\xd2Bb\\xb1X\\x0c\\x06\\x83\\x08\\xcbW\\xf2\\xa0o\\xdf\\xbe\\xccg\\xc4\\x85\\xc0+\\x15x\\xf3\\xe6M\\x86\\xec\\xe1\\xa8\\x08\\x0f\\x0fg\\x8e\\xdc\\xec-h\\xb5Z1s\\xb3y/\\xe7\\xcf\\x9f\\xbf\\xff\\xfe\\xfbEn\\xd4+\\x15\\xa8P(\\xd4ju\\xc3j\\x98p\\xc4\\xc5\\xc5eee\\t\\xdd\\x8a\\xd0\\x9c?\\x7f\\xfe\\x81\\x07\\x1e@X\\xa1N\\xa7\\xdb\\xbe}{\\xcf\\x9e=u:\\x9dF\\xa3Q\\xa9T*\\x95J\\xa9T\\xd2\\xd9\\xfc\\x1a\\xfe%\\x08\\xa2a\\xb7\\x80\\xa2(\\x97\\xcbE\\x92\\xa4\\xcb\\xe5r\\xdc\\xa3\\xae\\xae\\xcej\\xb5\\xd6\\xd7\\xd7[,\\x96\\xca\\xcaJ\\xb3\\xd9\\\\RRRSSSTTT[[[]]][[[SSc6\\x9bm6\\x9b\\xd0O\\xf2\\x1e=zddd\\x08\\xda\\x84[\\xbcU\\x81\\xb9\\xb9\\xb9\\xfc\\x8f\\xff\\xb1\\xe1\\xb1\\xc7\\x1e\\xfb\\xfa\\xeb\\xafEhHP\\x10\\xbe\\xdb<\\xf7\\xdcs\\x1f}\\xf4\\x11\\xaa\\xda\\xd8CQT]]]qqqNNNfffFFFJJJVV\\x16\\x92`\\xc4*\\x95*--->>\\x9e\\x7fU\\x1e#\\xda\\xce#r\\x04Onz\\x8f\\xc1\\x83\\x07{{0_TC!5\\'f\\x97\\xcb5i\\xd2$\\xfe\\xfd\\x9a>}:\\xaeK\\xec\\xc5\\n<v\\xec\\x18\\xff\\xa1gIhh\\xa8WGRC5\\x0e\\xcb\\x96-\\xc3\\xdd\\x95\\xa68\\x9dN\\x9e\\xdbwj\\xb5\\xba\\xa6\\xa6\\x06\\x97\\xfd\\xde\\xb7\\x1b\\xd1\\xc0\\x1f\\xfe\\xf0\\x07\\xd1vN+**\\xf4z\\xfd\\xa1C\\x87\\xc4iN\\xb2\\xe8\\xf5z\\xdc&4E\\xa5R%&&\\xf2\\xa9a\\xf7\\xee\\xdd\"$]l\\t/V\\xa0B\\xa1\\xe0\\x93\\x16\\x87\\x03\\x0f?\\xfcp|||]]\\x9d\\x98\\x8d\\xf2\\xe7\\xdc\\xb9s\\xa8\\xaa\\xda\\xb9s\\'\\xaa\\xaa\\x10\\xd2\\xb3gO\\xcee\\'O\\x9e\\x8c\\xf9\\xd8\\x10\\xae\\x87/*<\\x8d!\\xc9\\x1f\\x82 ^x\\xe1\\x05\\xdc\\xfd\\xf6\\x00\\xb4\\xd9\\xea_\\x7f\\xfdu\\xdc\\x1dj\\n\\xe7\\xad)\\xbd^_]]\\x8d\\xd7x\\xafW s\\xaa\\x1d\\xe1P*\\x95o\\xbd\\xf5\\x16C\\xea<)`\\xb5Z\\xdb\\xb5k\\x87\\xbc\\xef\\xb1\\xb1\\xb1;v\\xec\\xf04\\x80\\xa7@p\\xdeC\\xd7h4yyy\\xb8\\xcd\\x97E\\xfe\\xc0\\x193f\\xec\\xde\\xbd\\x1bW\\xeb\\x93\\'O\\xde\\xbcy\\xb3\\xd1h\\xc4e@K\\x9c;w\\x8es>SO\\x89\\x8b\\x8b\\x8b\\x8f\\x8f\\xef\\xd5\\xabWBBB\\x97.]|||\\xf4z\\xbdN\\xa7\\xd3\\xe9tZ\\xad\\x96\\xfeW\\x88\\xd3^\\xb5\\xb5\\xb5\\x11\\x11\\x11V\\xab\\x95C\\xd9\\x0f?\\xfc\\xf0\\xf9\\xe7\\x9fGn\\x92\\xa7\\xc8A\\x81\\x14E\\xa9\\xd5j\\xbcyW\\x02\\x03\\x03\\xe7\\xcc\\x99\\xb3v\\xedZz?\\x1a/\\xdf\\x7f\\xff\\xfd\\x94)S\\x10\\xba\\xcc!A\\xa9T\\xaa\\xd5\\xea\\x86\\xbd\\xfb\\x86\\xffh4\\x1a\\x8dF\\xa3\\xd3\\xe9\\xfc\\xfc\\xfc\\x0c\\x06C@@\\x80\\xc1`\\x08\\x0e\\x0e\\xee\\xd0\\xa1CHHH```pppHH\\x88\\x8f\\x8f\\x0f}\\x00\\xc0f\\xb3\\x99L\\xa6\\xf4\\xf4\\xf4s\\xe7\\xce%\\'\\'s;\\xee\\xf3\\xca+\\xaf\\xacZ\\xb5J\\xe4#\\xa0\\xee\\xc1\\xfc\\x0cF\\x04\\xaa\\xf0\\x04\\xfc\\xd1\\xeb\\xf5O<\\xf1\\xc4\\xa1C\\x87\\\\.\\x97\\x98#\\xe0t:\\xf7\\xec\\xd93n\\xdc8I\\xdcU\\xd2f\\xec\\xd8\\xb1\"_\\x1d\\x06d\\xa2@\\x8a\\xa2f\\xcc\\x98\\x81\\xfb\\xca\\xba\\xe1\\xa1\\x87\\x1e\\xda\\xbd{wff&\\xda\\x1d\\'\\xbb\\xdd^TT\\x94\\x96\\x96\\xb6i\\xd3\\xa6\\x81\\x03\\x07\\xe2\\xee\\xa571j\\xd4(\\x84\\x17\\x82?r\\x98\\x85\\xd2P\\x14\\x15\\x11\\x11\\xc19c\\xb8\\x08\\xa8\\xd5j___\\x1f\\x1f\\x9f\\xb8\\xb8\\xb8\\xc1\\x83\\x07\\'&&v\\xeb\\xd6\\xcdh4\\x86\\x85\\x85\\xd1G(\\xe9U%\\x93\\xc9d2\\x99\\xccfsEEEee\\xe5\\xad[\\xb7\\xf2\\xf3\\xf3srr\\xb2\\xb3\\xb3m6\\x9b\\xddn\\xa7\\xff\\xc5\\xdd\\x1b\\xafd\\xd8\\xb0ag\\xce\\x9c\\x91TJS\\xf9(P\\xa1PX\\xadV???9\\xf5\\x08@\\xc8\\xd8\\xb1c\\x0f\\x1f>,)\\xf9)\\xbc}G\\xbe\\tz\\xbd\\xfe\\xd2\\xa5K\\xb8\\xad\\x00\\xa4\\xc8\\x8c\\x193\\x8e\\x1f?.5\\xf9)\\x14rY\\x89i\\x8c\\x14B\\xf4\\x01\\x92b\\xf9\\xf2\\xe5\\x92=[/C\\x05R\\x14\\xb5a\\xc3\\x06\\xdc\\x17\\x1d\\x90\\x04\\x1a\\x8d\\xe6\\xc4\\x89\\x13\\x92\\x95\\x1f%W\\x05R\\x14\\xb5j\\xd5*\\xdcW\\x1f\\xc0Llllaa!\\xee;\\xb1\\x15d\\xab@\\x8a\\xa2\\x0e\\x1f>\\x8c\\xfb\\x1e\\x00\\xb01o\\xde<\\x9b\\xcd\\x86\\xfb\\x1el\\x1dY\\xad\\x856\\xe7\\xc2\\x85\\x0b\\xe2G\\xfe\\x00\\xf0\\xe2\\xef\\xef\\x7f\\xe6\\xcc\\x99\\x81\\x03\\x07z\\xc5\\xe1\\x04Y\\xad\\x856g\\xe8\\xd0\\xa1\\x95\\x95\\x95\\x11\\x11\\x11\\xb8\\r\\x01\\xc4@\\xab\\xd5>\\xf7\\xdcsUUU\\x89\\x89\\x89^!?\\x85B\\x8ek\\xa1\\xcd!I\\xf2O\\x7f\\xfa\\x13\\xee\\x91\\x06\\x84%))\\xa9\\xa0\\xa0@\\xca\\x8b.ni\\x13\\n\\xa4\\xc9\\xcb\\xcb\\x8b\\x8e\\x8e\\xc6}\\x9f\\x00\\xe8\\x194hPjj\\xaat\\x8ezzD\\x1bR \\xcd\\xf9\\xf3\\xe7;u\\xea\\x84\\xfb\\x9e\\x01\\x10@\\x10\\xc4\\xa8Q\\xa3n\\xde\\xbc\\xe9u\\xcf\\xbd\\xc6\\xc8|%\\xa6%\\x1c\\x0e\\xc7\\xb0a\\xc3RRRp\\x1b\\x02p\\x81 \\x88\\xfd\\xfb\\xf7O\\x9c8Q\\n\\xbe`<i\\xa3\\nl 33\\xf3\\xc2\\x85\\x0b{\\xf7\\xee\\xbd|\\xf9\\xb2<\"d\\xcb\\x92\\xb0\\xb0\\xb0~\\xfd\\xfa\\x8d\\x1f?\\xfe\\x81\\x07\\x1e\\xe8\\xd7\\xaf\\x9f\\x0c\\x84\\xd7@[W \\x00\\xe0E\\xe6\\xbb\\x11\\x00 q@\\x81\\x00\\x80\\x13P \\x00\\xe0\\x04\\x14\\x08\\x008\\x01\\x05\\x02\\x00N@\\x81\\x00\\x80\\x13P \\x00\\xe0\\x04\\x14\\x08\\x008\\x01\\x05\\x02\\x00N@\\x81\\x00\\x80\\x13P \\x00\\xe0\\x04\\x14\\x08\\x008\\x01\\x05\\x02\\x00N@\\x81\\x00\\x80\\x13P \\x00\\xe0\\x04\\x14\\x08\\x008\\x01\\x05\\x02\\x00N@\\x81\\x00\\x80\\x13P \\x00\\xe0\\x04\\x14\\x08\\x008\\x01\\x05\\x02\\x00N@\\x81\\x00\\x80\\x13P \\x00\\xe0\\x04\\x14\\x08\\x008\\x01\\x05\\x02\\x00N@\\x81\\x00\\x80\\x13P \\x00\\xe0\\x04\\x14\\x08\\x008\\x01\\x05\\x02\\x00N@\\x81\\x00\\x80\\x13P \\x00\\xe0\\x04\\x14\\x08\\x008\\x01\\x05\\x02\\x00N@\\x81\\x00\\x80\\x13P \\x00\\xe0\\x04\\x14\\x08\\x008\\x01\\x05\\x02\\x00N@\\x81\\x00\\x80\\x13P \\x00\\xe0\\x04\\x14\\x08\\x008\\x01\\x05\\x02\\x00N@\\x81\\x00\\x80\\x13P \\x00\\xe0\\x04\\x14\\x08\\x008\\x01\\x05\\x02\\x00N@\\x81\\x00\\x80\\x13P \\x00\\xe0\\x04\\x14\\x08\\x008\\x01\\x05\\x02\\x00N@\\x81\\x00\\x80\\x13P \\x00\\xe0\\x04\\x14\\x08\\x008\\x01\\x05\\x02\\x00N\\xfe\\x071\\x04\\xcb/J\\x95(\\x8e\\x00\\x00\\x00\\x00IEND\\xaeB`\\x82'\n",
      "1\n"
     ]
    }
   ],
   "source": [
    "for image_features in testing_dataset.take(1):\n",
    "  id = image_features['id'].numpy()\n",
    "  image = image_features['image'].numpy()\n",
    "  label = image_features['label'].numpy()\n",
    "  print(id)\n",
    "  print(image)\n",
    "  print(label)"
   ]
  },
  {
   "cell_type": "markdown",
   "metadata": {
    "id": "PRmUX6OFg9kM"
   },
   "source": [
    "### **Initializing the hyperparameters**"
   ]
  },
  {
   "cell_type": "code",
   "execution_count": null,
   "metadata": {
    "id": "FRweao0khCGm"
   },
   "outputs": [],
   "source": [
    "class HParams(object):\n",
    "  \"\"\"Hyperparameters used for training.\"\"\"\n",
    "  def __init__(self):\n",
    "    ### dataset parameters\n",
    "    self.num_classes = 4\n",
    "    self.IMG_DIMENSION = [299,299,3]\n",
    "    ### neural graph learning parameters\n",
    "    self.distance_type = nsl.configs.DistanceType.L2\n",
    "    self.graph_regularization_multiplier = 0.2\n",
    "    self.num_neighbors = 3\n",
    "    ### model architecture\n",
    "    self.LOSS = 'sparse_categorical_crossentropy'\n",
    "    self.OPT = 'adam'\n",
    "    self.METRICS = ['accuracy']\n",
    "    ### training parameters\n",
    "    self.train_epochs = 15\n",
    "    self.batch_size = 40\n",
    "    ### eval parameters\n",
    "    self.eval_steps = None  # All instances in the test set are evaluated.\n",
    "\n",
    "hp = HParams()"
   ]
  },
  {
   "cell_type": "markdown",
   "metadata": {
    "id": "ki0Q1YYCgv9e"
   },
   "source": [
    "### **Preparing the dataset**"
   ]
  },
  {
   "cell_type": "code",
   "execution_count": null,
   "metadata": {
    "id": "qXlOyCP2gie7"
   },
   "outputs": [],
   "source": [
    "NBR_FEATURE_PREFIX = 'NL_nbr_'\n",
    "NBR_WEIGHT_SUFFIX = '_weight'\n",
    "\n",
    "def get_default_image():\n",
    "  image = tf.ones((299, 299, 3), dtype=tf.uint8)*255\n",
    "  return tf.io.encode_png(image, compression=-1,name=None)\n",
    "\n",
    "DEFAULT_IMG = get_default_image()\n",
    "\n",
    "def make_dataset(file_path,train = False):\n",
    "\n",
    "  def parse_example(example_proto):\n",
    "    feature_spec = {\n",
    "        'image': tf.io.FixedLenFeature([], tf.string),\n",
    "        'label': tf.io.FixedLenFeature([], tf.int64),\n",
    "    }\n",
    "    if train:\n",
    "      for i in range(hp.num_neighbors):\n",
    "        nbr_feature_key = '{}{}_{}'.format(NBR_FEATURE_PREFIX, i, 'image')\n",
    "        nbr_weight_key = '{}{}{}'.format(NBR_FEATURE_PREFIX, i,\n",
    "                                         NBR_WEIGHT_SUFFIX)\n",
    "        feature_spec[nbr_feature_key] = tf.io.FixedLenFeature(\n",
    "            [],tf.string, default_value=DEFAULT_IMG)\n",
    "\n",
    "        feature_spec[nbr_weight_key] = tf.io.FixedLenFeature(\n",
    "            [1], tf.float32, default_value=tf.constant([0.0]))\n",
    "\n",
    "    features = tf.io.parse_single_example(example_proto, feature_spec)\n",
    "\n",
    "    features['image'] = tf.io.decode_png(features['image'], channels=3)\n",
    "    if train:\n",
    "      for i in range(hp.num_neighbors):\n",
    "        nbr_feature_key = '{}{}_{}'.format(NBR_FEATURE_PREFIX, i, 'image')\n",
    "        features[nbr_feature_key] = tf.io.decode_png(features[nbr_feature_key],channels=3)\n",
    "\n",
    "    labels = features.pop('label')\n",
    "    return features, labels\n",
    "\n",
    "  dataset = tf.data.TFRecordDataset([file_path])\n",
    "  if train:\n",
    "    dataset = dataset.shuffle(10000)\n",
    "  dataset = dataset.map(parse_example)\n",
    "  dataset = dataset.batch(hp.batch_size)\n",
    "  return dataset"
   ]
  },
  {
   "cell_type": "code",
   "execution_count": null,
   "metadata": {
    "id": "hHziTiaziFVz"
   },
   "outputs": [],
   "source": [
    "train_dataset = make_dataset('Graph/data/augmented_train_data.tfr', True)\n",
    "test_dataset = make_dataset('Graph/data/test_data.tfr')"
   ]
  },
  {
   "cell_type": "code",
   "execution_count": null,
   "metadata": {
    "colab": {
     "base_uri": "https://localhost:8080/"
    },
    "id": "PMtDnTR6uieE",
    "outputId": "238b6c35-e3e7-4a07-d395-6700cdf94f57"
   },
   "outputs": [
    {
     "data": {
      "text/plain": [
       "<BatchDataset element_spec=({'NL_nbr_0_image': TensorSpec(shape=(None, None, None, 3), dtype=tf.uint8, name=None), 'NL_nbr_0_weight': TensorSpec(shape=(None, 1), dtype=tf.float32, name=None), 'NL_nbr_1_image': TensorSpec(shape=(None, None, None, 3), dtype=tf.uint8, name=None), 'NL_nbr_1_weight': TensorSpec(shape=(None, 1), dtype=tf.float32, name=None), 'NL_nbr_2_image': TensorSpec(shape=(None, None, None, 3), dtype=tf.uint8, name=None), 'NL_nbr_2_weight': TensorSpec(shape=(None, 1), dtype=tf.float32, name=None), 'image': TensorSpec(shape=(None, None, None, 3), dtype=tf.uint8, name=None)}, TensorSpec(shape=(None,), dtype=tf.int64, name=None))>"
      ]
     },
     "execution_count": 120,
     "metadata": {},
     "output_type": "execute_result"
    }
   ],
   "source": [
    "train_dataset"
   ]
  },
  {
   "cell_type": "markdown",
   "metadata": {
    "id": "QvNyELHnHN5T"
   },
   "source": [
    "### **Keras leNet model with graph regularization**"
   ]
  },
  {
   "cell_type": "code",
   "execution_count": null,
   "metadata": {
    "colab": {
     "base_uri": "https://localhost:8080/"
    },
    "id": "zgqSeoVrpaaD",
    "outputId": "8b00b353-eb59-4b59-d4d0-671c8f05c26b"
   },
   "outputs": [
    {
     "name": "stdout",
     "output_type": "stream",
     "text": [
      "Model: \"sequential_10\"\n",
      "_________________________________________________________________\n",
      " Layer (type)                Output Shape              Param #   \n",
      "=================================================================\n",
      " conv2d_21 (Conv2D)          (None, 299, 299, 8)       224       \n",
      "                                                                 \n",
      " max_pooling2d_21 (MaxPoolin  (None, 150, 150, 8)      0         \n",
      " g2D)                                                            \n",
      "                                                                 \n",
      " conv2d_22 (Conv2D)          (None, 150, 150, 16)      1168      \n",
      "                                                                 \n",
      " max_pooling2d_22 (MaxPoolin  (None, 75, 75, 16)       0         \n",
      " g2D)                                                            \n",
      "                                                                 \n",
      " conv2d_23 (Conv2D)          (None, 75, 75, 32)        4640      \n",
      "                                                                 \n",
      " max_pooling2d_23 (MaxPoolin  (None, 38, 38, 32)       0         \n",
      " g2D)                                                            \n",
      "                                                                 \n",
      " flatten_10 (Flatten)        (None, 46208)             0         \n",
      "                                                                 \n",
      " dense_32 (Dense)            (None, 64)                2957376   \n",
      "                                                                 \n",
      " dense_33 (Dense)            (None, 4)                 260       \n",
      "                                                                 \n",
      "=================================================================\n",
      "Total params: 2,963,668\n",
      "Trainable params: 2,963,668\n",
      "Non-trainable params: 0\n",
      "_________________________________________________________________\n"
     ]
    }
   ],
   "source": [
    "def Model():  \n",
    "  model = tf.keras.models.Sequential([\n",
    "                                    tf.keras.layers.InputLayer(input_shape=(299, 299, 3),name='image'),\n",
    "                                    tf.keras.layers.Conv2D(filters=8, kernel_size = 3, input_shape = [299,299,3], activation='relu',padding='same'),\n",
    "                                    tf.keras.layers.MaxPooling2D(padding='same'),\n",
    "                                    tf.keras.layers.Conv2D(filters = 16, kernel_size = 3, activation = 'relu',padding='same'),\n",
    "                                    tf.keras.layers.MaxPooling2D(padding='same'),\n",
    "                                      tf.keras.layers.Conv2D(filters = 32, kernel_size = 3, activation = 'relu',padding='same'),\n",
    "                                    tf.keras.layers.MaxPooling2D(padding='same'),\n",
    "                                    tf.keras.layers.Flatten(),\n",
    "                                    tf.keras.layers.Dense(units=64, activation = 'relu'),\n",
    "                                    tf.keras.layers.Dense(units = 4, activation='softmax')\n",
    "  ])\n",
    "  return model\n",
    "\n",
    "\n",
    "leNet_model = Model()\n",
    "leNet_model.summary()"
   ]
  },
  {
   "cell_type": "markdown",
   "metadata": {
    "id": "ZbE4EOxnrw7n"
   },
   "source": [
    "### **VGG19 model**"
   ]
  },
  {
   "cell_type": "code",
   "execution_count": null,
   "metadata": {
    "id": "kPWtMkW8r0kr"
   },
   "outputs": [],
   "source": [
    "from keras import Sequential\n",
    "import tensorflow as tf\n",
    "from keras.preprocessing.image import ImageDataGenerator\n",
    "from keras.layers import Flatten,Dense,BatchNormalization,Activation,Dropout\n",
    "\n",
    "VGG19 = tf.keras.applications.vgg19.VGG19\n",
    "\n",
    "def VGG_19():\n",
    "  base = VGG19(include_top = False, weights = 'imagenet', input_shape = (299,299,3), classes = 4)\n",
    "  base.trainable = False\n",
    "  model= Sequential()\n",
    "  model.add(tf.keras.layers.InputLayer(input_shape=(299, 299, 3),name='image')),\n",
    "  model.add(base) \n",
    "  model.add(Flatten())\n",
    "  model.add(Dense(1024,activation=('relu'),input_dim=512))\n",
    "  model.add(Dense(512,activation=('relu'))) \n",
    "  model.add(Dense(256,activation=('relu'))) \n",
    "  model.add(Dropout(.3))\n",
    "  model.add(Dense(128,activation=('relu')))\n",
    "  model.add(Dense(64,activation=('relu')))\n",
    "  model.add(Dense(4,activation=('softmax')))\n",
    "  return model"
   ]
  },
  {
   "cell_type": "code",
   "execution_count": null,
   "metadata": {
    "colab": {
     "base_uri": "https://localhost:8080/"
    },
    "id": "0xWWrOFJt8c8",
    "outputId": "0e6c3bca-bfea-44c6-af28-cf14de52cc6f"
   },
   "outputs": [
    {
     "name": "stdout",
     "output_type": "stream",
     "text": [
      "Model: \"sequential_11\"\n",
      "_________________________________________________________________\n",
      " Layer (type)                Output Shape              Param #   \n",
      "=================================================================\n",
      " vgg19 (Functional)          (None, 9, 9, 512)         20024384  \n",
      "                                                                 \n",
      " flatten_11 (Flatten)        (None, 41472)             0         \n",
      "                                                                 \n",
      " dense_34 (Dense)            (None, 1024)              42468352  \n",
      "                                                                 \n",
      " dense_35 (Dense)            (None, 512)               524800    \n",
      "                                                                 \n",
      " dense_36 (Dense)            (None, 256)               131328    \n",
      "                                                                 \n",
      " dropout_3 (Dropout)         (None, 256)               0         \n",
      "                                                                 \n",
      " dense_37 (Dense)            (None, 128)               32896     \n",
      "                                                                 \n",
      " dense_38 (Dense)            (None, 64)                8256      \n",
      "                                                                 \n",
      " dense_39 (Dense)            (None, 4)                 260       \n",
      "                                                                 \n",
      "=================================================================\n",
      "Total params: 63,190,276\n",
      "Trainable params: 43,165,892\n",
      "Non-trainable params: 20,024,384\n",
      "_________________________________________________________________\n"
     ]
    }
   ],
   "source": [
    "vgg19_model = VGG_19()\n",
    "vgg19_model.summary()"
   ]
  },
  {
   "cell_type": "code",
   "execution_count": null,
   "metadata": {
    "id": "lactxJcdt8fn"
   },
   "outputs": [],
   "source": [
    "base_model = leNet_model"
   ]
  },
  {
   "cell_type": "code",
   "execution_count": null,
   "metadata": {
    "id": "kuYbXeGeHXcp"
   },
   "outputs": [],
   "source": [
    "gnn_config = nsl.configs.make_graph_reg_config(\n",
    "  max_neighbors=hp.num_neighbors,\n",
    "  multiplier=hp.graph_regularization_multiplier,\n",
    "  distance_type=hp.distance_type,\n",
    "  sum_over_axis=-1)\n",
    "gnn_model = nsl.keras.GraphRegularization(base_model,gnn_config)"
   ]
  },
  {
   "cell_type": "code",
   "execution_count": null,
   "metadata": {
    "id": "l2DNLJUjHq-R"
   },
   "outputs": [],
   "source": [
    "gnn_model.compile(\n",
    "    optimizer=hp.OPT,\n",
    "    loss=hp.LOSS,\n",
    "    metrics=hp.METRICS)"
   ]
  },
  {
   "cell_type": "code",
   "execution_count": null,
   "metadata": {
    "id": "S9oF03-vwf8V"
   },
   "outputs": [],
   "source": [
    "callback = tf.keras.callbacks.EarlyStopping(monitor='val_accuracy', patience=5)"
   ]
  },
  {
   "cell_type": "code",
   "execution_count": null,
   "metadata": {
    "colab": {
     "base_uri": "https://localhost:8080/"
    },
    "id": "4Z7s4bv7Hz2i",
    "outputId": "7a3abae9-f3f0-4032-aa91-2c4eb94ac2f0"
   },
   "outputs": [
    {
     "name": "stdout",
     "output_type": "stream",
     "text": [
      "Epoch 1/15\n"
     ]
    },
    {
     "name": "stderr",
     "output_type": "stream",
     "text": [
      "/usr/local/lib/python3.7/dist-packages/tensorflow/python/framework/indexed_slices.py:446: UserWarning: Converting sparse IndexedSlices(IndexedSlices(indices=Tensor(\"gradient_tape/GraphRegularization/graph_loss/Reshape_1:0\", shape=(None,), dtype=int32), values=Tensor(\"gradient_tape/GraphRegularization/graph_loss/Reshape:0\", shape=(None, 4), dtype=float32), dense_shape=Tensor(\"gradient_tape/GraphRegularization/graph_loss/Cast:0\", shape=(2,), dtype=int32))) to a dense Tensor of unknown shape. This may consume a large amount of memory.\n",
      "  \"shape. This may consume a large amount of memory.\" % value)\n"
     ]
    },
    {
     "name": "stdout",
     "output_type": "stream",
     "text": [
      "9/9 [==============================] - 6s 246ms/step - loss: 845.8300 - accuracy: 0.3000 - scaled_graph_loss: 0.0245 - val_loss: 110.6726 - val_accuracy: 0.5000\n",
      "Epoch 2/15\n",
      "9/9 [==============================] - 2s 222ms/step - loss: 30.5760 - accuracy: 0.5303 - scaled_graph_loss: 0.0580 - val_loss: 5.4855 - val_accuracy: 0.6000\n",
      "Epoch 3/15\n",
      "9/9 [==============================] - 2s 221ms/step - loss: 1.2927 - accuracy: 0.8303 - scaled_graph_loss: 0.0559 - val_loss: 2.2348 - val_accuracy: 0.7364\n",
      "Epoch 4/15\n",
      "9/9 [==============================] - 2s 222ms/step - loss: 0.7415 - accuracy: 0.8939 - scaled_graph_loss: 0.0576 - val_loss: 1.2847 - val_accuracy: 0.8182\n",
      "Epoch 5/15\n",
      "9/9 [==============================] - 2s 222ms/step - loss: 0.2673 - accuracy: 0.9667 - scaled_graph_loss: 0.0385 - val_loss: 1.0356 - val_accuracy: 0.8455\n",
      "Epoch 6/15\n",
      "9/9 [==============================] - 2s 223ms/step - loss: 0.1870 - accuracy: 0.9879 - scaled_graph_loss: 0.0391 - val_loss: 1.0001 - val_accuracy: 0.8636\n",
      "Epoch 7/15\n",
      "9/9 [==============================] - 2s 221ms/step - loss: 0.1644 - accuracy: 0.9909 - scaled_graph_loss: 0.0413 - val_loss: 0.9617 - val_accuracy: 0.8545\n",
      "Epoch 8/15\n",
      "9/9 [==============================] - 2s 223ms/step - loss: 0.1464 - accuracy: 0.9970 - scaled_graph_loss: 0.0459 - val_loss: 0.8696 - val_accuracy: 0.8545\n",
      "Epoch 9/15\n",
      "9/9 [==============================] - 2s 223ms/step - loss: 0.1305 - accuracy: 0.9970 - scaled_graph_loss: 0.0454 - val_loss: 0.8381 - val_accuracy: 0.8636\n",
      "Epoch 10/15\n",
      "9/9 [==============================] - 2s 226ms/step - loss: 0.1135 - accuracy: 0.9970 - scaled_graph_loss: 0.0428 - val_loss: 0.8152 - val_accuracy: 0.8727\n",
      "Epoch 11/15\n",
      "9/9 [==============================] - 2s 222ms/step - loss: 0.0967 - accuracy: 0.9970 - scaled_graph_loss: 0.0473 - val_loss: 0.8577 - val_accuracy: 0.8545\n",
      "Epoch 12/15\n",
      "9/9 [==============================] - 2s 225ms/step - loss: 0.0679 - accuracy: 0.9970 - scaled_graph_loss: 0.0429 - val_loss: 0.9697 - val_accuracy: 0.8364\n",
      "Epoch 13/15\n",
      "9/9 [==============================] - 2s 229ms/step - loss: 0.0543 - accuracy: 0.9970 - scaled_graph_loss: 0.0404 - val_loss: 1.0639 - val_accuracy: 0.8273\n",
      "Epoch 14/15\n",
      "9/9 [==============================] - 2s 224ms/step - loss: 0.0517 - accuracy: 0.9970 - scaled_graph_loss: 0.0403 - val_loss: 1.0610 - val_accuracy: 0.8364\n",
      "Epoch 15/15\n",
      "9/9 [==============================] - 3s 251ms/step - loss: 0.0516 - accuracy: 0.9970 - scaled_graph_loss: 0.0447 - val_loss: 1.0624 - val_accuracy: 0.8273\n"
     ]
    }
   ],
   "source": [
    "history = gnn_model.fit(\n",
    "  train_dataset,\n",
    "  validation_data=test_dataset,\n",
    "  epochs=hp.train_epochs)"
   ]
  },
  {
   "cell_type": "code",
   "execution_count": null,
   "metadata": {
    "id": "2kb-7eXAqaRG"
   },
   "outputs": [],
   "source": [
    "Y_pred = np.array([np.argmax(x) for x in gnn_model.predict(X_test)])"
   ]
  },
  {
   "cell_type": "code",
   "execution_count": null,
   "metadata": {
    "colab": {
     "base_uri": "https://localhost:8080/"
    },
    "id": "S6i53jfN1AiO",
    "outputId": "afc54017-5d73-42e8-ecfd-f436f00058bf"
   },
   "outputs": [
    {
     "data": {
      "text/plain": [
       "(array([1, 0, 2, 3, 1, 3, 0, 2, 2, 3, 1, 3, 0, 1, 0, 3, 3, 3, 0, 1, 3, 0,\n",
       "        0, 0, 1, 0, 1, 2, 3, 2, 3, 3, 0, 2, 3, 0, 3, 3, 3, 0, 0, 1, 0, 3,\n",
       "        2, 1, 3, 0, 1, 2, 2, 2, 3, 2, 3, 3, 0, 1, 3, 1, 3, 0, 2, 0, 0, 0,\n",
       "        1, 3, 3, 1, 0, 1, 0, 3, 1, 2, 1, 3, 3, 0, 0, 2, 1, 3, 2, 2, 2, 0,\n",
       "        3, 3, 1, 1, 0, 2, 1, 2, 2, 1, 3, 3, 2, 2, 1, 0, 2, 3, 1, 1, 2, 0]),\n",
       " array([1, 2, 2, 3, 3, 3, 0, 2, 2, 3, 1, 3, 0, 1, 0, 3, 3, 3, 2, 1, 3, 0,\n",
       "        0, 0, 1, 0, 1, 2, 3, 2, 1, 3, 2, 0, 2, 3, 3, 3, 1, 0, 0, 1, 0, 3,\n",
       "        2, 1, 3, 0, 1, 2, 2, 2, 3, 2, 3, 3, 2, 1, 3, 1, 2, 0, 2, 0, 0, 0,\n",
       "        1, 3, 3, 3, 0, 1, 0, 3, 1, 0, 2, 3, 3, 0, 0, 2, 1, 1, 0, 2, 2, 0,\n",
       "        3, 3, 1, 1, 0, 2, 1, 2, 2, 1, 3, 3, 2, 2, 2, 3, 1, 3, 1, 1, 2, 0]))"
      ]
     },
     "execution_count": 130,
     "metadata": {},
     "output_type": "execute_result"
    }
   ],
   "source": [
    "Y_pred,Y_test"
   ]
  },
  {
   "cell_type": "code",
   "execution_count": null,
   "metadata": {
    "id": "PAr4CEFt1RwG"
   },
   "outputs": [],
   "source": [
    "from sklearn.metrics import accuracy_score, classification_report"
   ]
  },
  {
   "cell_type": "code",
   "execution_count": null,
   "metadata": {
    "colab": {
     "base_uri": "https://localhost:8080/"
    },
    "id": "huIbNNxG1yo0",
    "outputId": "688a000b-d19c-4ce7-9053-b1d438225c12"
   },
   "outputs": [
    {
     "data": {
      "text/plain": [
       "0.8272727272727273"
      ]
     },
     "execution_count": 132,
     "metadata": {},
     "output_type": "execute_result"
    }
   ],
   "source": [
    "accuracy_score(Y_test,Y_pred)"
   ]
  },
  {
   "cell_type": "markdown",
   "metadata": {
    "id": "gVlBg5Zl14wp"
   },
   "source": [
    "### **Normal leNet model without graph regularization**"
   ]
  },
  {
   "cell_type": "code",
   "execution_count": null,
   "metadata": {
    "id": "HgJZQZnc112w"
   },
   "outputs": [],
   "source": [
    "model = Model()"
   ]
  },
  {
   "cell_type": "code",
   "execution_count": null,
   "metadata": {
    "id": "dcmvL8uN2CI1"
   },
   "outputs": [],
   "source": [
    "model.compile(optimizer=hp.OPT,\n",
    "    loss=hp.LOSS,\n",
    "    metrics=hp.METRICS)"
   ]
  },
  {
   "cell_type": "code",
   "execution_count": null,
   "metadata": {
    "colab": {
     "base_uri": "https://localhost:8080/"
    },
    "id": "m12jhEeL2JvM",
    "outputId": "59e6199a-56eb-4ba2-eaaa-f847de34b8ea"
   },
   "outputs": [
    {
     "name": "stdout",
     "output_type": "stream",
     "text": [
      "Epoch 1/15\n",
      "11/11 [==============================] - 1s 95ms/step - loss: 256.0583 - accuracy: 0.3333 - val_loss: 11.8244 - val_accuracy: 0.2818\n",
      "Epoch 2/15\n",
      "11/11 [==============================] - 1s 65ms/step - loss: 2.6612 - accuracy: 0.5909 - val_loss: 1.3435 - val_accuracy: 0.7182\n",
      "Epoch 3/15\n",
      "11/11 [==============================] - 1s 66ms/step - loss: 0.4928 - accuracy: 0.8485 - val_loss: 0.6319 - val_accuracy: 0.7727\n",
      "Epoch 4/15\n",
      "11/11 [==============================] - 1s 66ms/step - loss: 0.2204 - accuracy: 0.9152 - val_loss: 0.5156 - val_accuracy: 0.8455\n",
      "Epoch 5/15\n",
      "11/11 [==============================] - 1s 66ms/step - loss: 0.1103 - accuracy: 0.9788 - val_loss: 0.4654 - val_accuracy: 0.8545\n",
      "Epoch 6/15\n",
      "11/11 [==============================] - 1s 65ms/step - loss: 0.0752 - accuracy: 0.9788 - val_loss: 0.4047 - val_accuracy: 0.8727\n",
      "Epoch 7/15\n",
      "11/11 [==============================] - 1s 66ms/step - loss: 0.0322 - accuracy: 0.9939 - val_loss: 0.4025 - val_accuracy: 0.8727\n",
      "Epoch 8/15\n",
      "11/11 [==============================] - 1s 66ms/step - loss: 0.0274 - accuracy: 0.9909 - val_loss: 0.4011 - val_accuracy: 0.8727\n",
      "Epoch 9/15\n",
      "11/11 [==============================] - 1s 64ms/step - loss: 0.0236 - accuracy: 0.9939 - val_loss: 0.3994 - val_accuracy: 0.8818\n",
      "Epoch 10/15\n",
      "11/11 [==============================] - 1s 66ms/step - loss: 0.0198 - accuracy: 0.9939 - val_loss: 0.3966 - val_accuracy: 0.8818\n",
      "Epoch 11/15\n",
      "11/11 [==============================] - 1s 66ms/step - loss: 0.0158 - accuracy: 0.9939 - val_loss: 0.3944 - val_accuracy: 0.8818\n",
      "Epoch 12/15\n",
      "11/11 [==============================] - 1s 66ms/step - loss: 0.0142 - accuracy: 0.9970 - val_loss: 0.3943 - val_accuracy: 0.8727\n",
      "Epoch 13/15\n",
      "11/11 [==============================] - 1s 66ms/step - loss: 0.0133 - accuracy: 0.9970 - val_loss: 0.3942 - val_accuracy: 0.8727\n",
      "Epoch 14/15\n",
      "11/11 [==============================] - 1s 66ms/step - loss: 0.0127 - accuracy: 0.9970 - val_loss: 0.3982 - val_accuracy: 0.8818\n",
      "Epoch 15/15\n",
      "11/11 [==============================] - 1s 65ms/step - loss: 0.0118 - accuracy: 0.9970 - val_loss: 0.3949 - val_accuracy: 0.8818\n"
     ]
    }
   ],
   "source": [
    "callback = tf.keras.callbacks.EarlyStopping(monitor='val_accuracy', patience=5)\n",
    "\n",
    "history_ = model.fit(\n",
    "  X_train,Y_train,\n",
    "  validation_data=(X_test,Y_test),\n",
    "  epochs=hp.train_epochs)"
   ]
  },
  {
   "cell_type": "code",
   "execution_count": null,
   "metadata": {
    "colab": {
     "base_uri": "https://localhost:8080/"
    },
    "id": "E2EFuMVd2cL9",
    "outputId": "ab5ce801-19a3-4a0e-e641-8904c344f916"
   },
   "outputs": [
    {
     "data": {
      "text/plain": [
       "0.8818181818181818"
      ]
     },
     "execution_count": 136,
     "metadata": {},
     "output_type": "execute_result"
    }
   ],
   "source": [
    "Y_pred_ = np.array([np.argmax(x) for x in model.predict(X_test)])\n",
    "\n",
    "accuracy_score(Y_test,Y_pred_)"
   ]
  },
  {
   "cell_type": "code",
   "execution_count": null,
   "metadata": {
    "colab": {
     "base_uri": "https://localhost:8080/",
     "height": 265
    },
    "id": "UQEqqF8R3ZLC",
    "outputId": "3a4e38df-085f-41e4-cc3e-2a0a9b700799"
   },
   "outputs": [
    {
     "data": {
      "image/png": "[encoded data removed]",
      "text/plain": [
       "<Figure size 432x288 with 1 Axes>"
      ]
     },
     "metadata": {
      "needs_background": "light"
     },
     "output_type": "display_data"
    }
   ],
   "source": [
    "plt.plot(history.history['val_accuracy'])\n",
    "plt.plot(history_.history['val_accuracy'])\n",
    "plt.legend(['With graph reg','Without graph reg'])\n",
    "plt.show()"
   ]
  },
  {
   "cell_type": "code",
   "execution_count": null,
   "metadata": {
    "colab": {
     "base_uri": "https://localhost:8080/"
    },
    "id": "5l3jRLTy455e",
    "outputId": "d5c847f8-0db0-4b07-a587-f2637378507e"
   },
   "outputs": [
    {
     "name": "stdout",
     "output_type": "stream",
     "text": [
      "WARNING:tensorflow:Skipping full serialization of Keras layer <neural_structured_learning.keras.layers.neighbor_features.NeighborFeatures object at 0x7f833cf23690>, because it is not built.\n"
     ]
    },
    {
     "name": "stderr",
     "output_type": "stream",
     "text": [
      "WARNING:tensorflow:Skipping full serialization of Keras layer <neural_structured_learning.keras.layers.neighbor_features.NeighborFeatures object at 0x7f833cf23690>, because it is not built.\n",
      "WARNING:absl:Function `_wrapped_model` contains input name(s) NL_nbr_0_image, NL_nbr_0_weight, NL_nbr_1_image, NL_nbr_1_weight, NL_nbr_2_image, NL_nbr_2_weight with unsupported characters which will be renamed to nl_nbr_0_image, nl_nbr_0_weight, nl_nbr_1_image, nl_nbr_1_weight, nl_nbr_2_image, nl_nbr_2_weight in the SavedModel.\n"
     ]
    },
    {
     "name": "stdout",
     "output_type": "stream",
     "text": [
      "INFO:tensorflow:Assets written to: graph_reg_model/assets\n"
     ]
    },
    {
     "name": "stderr",
     "output_type": "stream",
     "text": [
      "INFO:tensorflow:Assets written to: graph_reg_model/assets\n"
     ]
    },
    {
     "name": "stdout",
     "output_type": "stream",
     "text": [
      "INFO:tensorflow:Assets written to: base_model/assets\n"
     ]
    },
    {
     "name": "stderr",
     "output_type": "stream",
     "text": [
      "INFO:tensorflow:Assets written to: base_model/assets\n"
     ]
    }
   ],
   "source": [
    "gnn_model.save('graph_reg_model')\n",
    "model.save('base_model')"
   ]
  },
  {
   "cell_type": "code",
   "execution_count": null,
   "metadata": {
    "id": "8vIrWnX_Krlb"
   },
   "outputs": [],
   "source": []
  }
 ],
 "metadata": {
  "accelerator": "GPU",
  "colab": {
   "provenance": []
  },
  "kernelspec": {
   "display_name": "Python 3 (ipykernel)",
   "language": "python",
   "name": "python3"
  },
  "language_info": {
   "codemirror_mode": {
    "name": "ipython",
    "version": 3
   },
   "file_extension": ".py",
   "mimetype": "text/x-python",
   "name": "python",
   "nbconvert_exporter": "python",
   "pygments_lexer": "ipython3",
   "version": "3.10.6"
  }
 },
 "nbformat": 4,
 "nbformat_minor": 1
}
