{
 "cells": [
  {
   "cell_type": "code",
   "execution_count": 1,
   "metadata": {
    "id": "x4pksS7QlLrD"
   },
   "outputs": [],
   "source": [
    "import tensorflow as tf\n",
    "import numpy as np\n",
    "import math\n",
    "import sys"
   ]
  },
  {
   "cell_type": "code",
   "execution_count": 33,
   "metadata": {
    "id": "2Jgj2MhblO8D"
   },
   "outputs": [],
   "source": [
    "class classifier:\n",
    "\n",
    "    def __init__(self,train_data,train_label,test_data,test_labe,weights,labels):\n",
    "        self.train_data = tf.cast(train_data,dtype=tf.float32)\n",
    "        self.test_data = tf.cast(test_data,dtype=tf.float32)\n",
    "        self.train_label = tf.cast(train_label,dtype=tf.int64)\n",
    "        self.train_label = tf.one_hot(self.train_label,depth=10)\n",
    "        self.test_label = tf.cast(test_label,dtype=tf.int64)\n",
    "        self.test_label = tf.one_hot(self.test_label,depth=10)\n",
    "\n",
    "\n",
    "        self.weights = tf.Variable(weights,dtype=tf.float32)\n",
    "        self.biases = tf.Variable(biases,dtype=tf.float32)\n",
    "\n",
    "        self.optimizer = tf.keras.optimizers.Adam(learning_rate=0.1)\n",
    "        self.loss = tf.keras.losses.CategoricalCrossentropy()\n",
    "\n",
    "    def model(self,data):\n",
    "        vals = tf.linalg.matmul(data/255,self.weights)+self.biases\n",
    "        return self.Normal_CDF(vals)\n",
    "\n",
    "    def Normal_CDF(self,vals):\n",
    "        mean = tf.math.reduce_mean(vals)\n",
    "        std = tf.math.reduce_std(vals)\n",
    "        return 0.5*(1+tf.math.erf(vals-mean)/(std*math.sqrt(2)))\n",
    "\n",
    "    @tf.function\n",
    "    def train(self,epochs):\n",
    "        loss = lambda : self.loss(self.train_label,self.model(self.train_data))\n",
    "        while epochs:\n",
    "            self.optimizer.minimize(loss,var_list=[self.weights,self.biases])\n",
    "            val = self.loss(self.test_label,self.model(self.test_data))\n",
    "            # print(epochs, end=' ')\n",
    "            tf.print('loss = {}'.format(val))\n",
    "            # print()\n",
    "            epochs -= 1"
   ]
  },
  {
   "cell_type": "code",
   "execution_count": 34,
   "metadata": {
    "id": "kna0Hq06nrqG"
   },
   "outputs": [],
   "source": [
    "def init_param():\n",
    "    weights = tf.ones([784,10],dtype=tf.float32)\n",
    "    biases = tf.ones([10],dtype=tf.float32)\n",
    "    return weights,biases"
   ]
  },
  {
   "cell_type": "code",
   "execution_count": 35,
   "metadata": {
    "id": "v6QsPGCPn64h"
   },
   "outputs": [],
   "source": [
    "(train_data,train_label),(test_data,test_label) = tf.keras.datasets.mnist.load_data()\n",
    "train_data = tf.reshape(train_data,shape=[-1,784])\n",
    "test_data = tf.reshape(test_data,shape=[-1,784])\n",
    "weights,biases = init_param()"
   ]
  },
  {
   "cell_type": "code",
   "execution_count": null,
   "metadata": {
    "id": "pfqsFS6UoY37"
   },
   "outputs": [],
   "source": [
    "model = classifier(train_data,train_label,test_data,test_label,weights,biases)\n",
    "model.train(100)"
   ]
  },
  {
   "cell_type": "code",
   "execution_count": null,
   "metadata": {
    "id": "HQfiKmJmoliH"
   },
   "outputs": [],
   "source": []
  }
 ],
 "metadata": {
  "colab": {
   "collapsed_sections": [],
   "name": "Copy of Welcome To Colaboratory",
   "provenance": []
  },
  "kernelspec": {
   "display_name": "Python 3 (ipykernel)",
   "language": "python",
   "name": "python3"
  },
  "language_info": {
   "codemirror_mode": {
    "name": "ipython",
    "version": 3
   },
   "file_extension": ".py",
   "mimetype": "text/x-python",
   "name": "python",
   "nbconvert_exporter": "python",
   "pygments_lexer": "ipython3",
   "version": "3.10.6"
  }
 },
 "nbformat": 4,
 "nbformat_minor": 1
}
